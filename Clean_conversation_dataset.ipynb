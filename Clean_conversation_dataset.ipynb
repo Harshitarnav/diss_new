{
 "cells": [
  {
   "cell_type": "code",
   "execution_count": 21,
   "id": "b8e0cefa",
   "metadata": {},
   "outputs": [],
   "source": [
    "import pandas as pd\n",
    "import numpy as np\n",
    "\n",
    "df = pd.read_csv(\"final_seek_mhrt.csv\")"
   ]
  },
  {
   "cell_type": "code",
   "execution_count": 22,
   "id": "afedbe60",
   "metadata": {},
   "outputs": [
    {
     "data": {
      "text/plain": [
       "Seeking        7347\n",
       "Not seeking    1905\n",
       "Name: seeking?, dtype: int64"
      ]
     },
     "execution_count": 22,
     "metadata": {},
     "output_type": "execute_result"
    }
   ],
   "source": [
    "df[\"seeking?\"].value_counts()"
   ]
  },
  {
   "cell_type": "code",
   "execution_count": 23,
   "id": "cb35b9bf",
   "metadata": {},
   "outputs": [
    {
     "name": "stdout",
     "output_type": "stream",
     "text": [
      "Downloading movie-corpus to /Users/arnav/.convokit/downloads/movie-corpus\n",
      "Downloading movie-corpus from http://zissou.infosci.cornell.edu/convokit/datasets/movie-corpus/movie-corpus.zip (40.9MB)... Done\n"
     ]
    }
   ],
   "source": [
    "from convokit import Corpus, download\n",
    "corpus = Corpus(filename=download(\"movie-corpus\"))"
   ]
  },
  {
   "cell_type": "code",
   "execution_count": 24,
   "id": "2e2c1b74",
   "metadata": {},
   "outputs": [
    {
     "name": "stdout",
     "output_type": "stream",
     "text": [
      "Number of Speakers: 9035\n",
      "Number of Utterances: 304713\n",
      "Number of Conversations: 83097\n"
     ]
    }
   ],
   "source": [
    "corpus.print_summary_stats()"
   ]
  },
  {
   "cell_type": "code",
   "execution_count": 25,
   "id": "317f8d16",
   "metadata": {},
   "outputs": [
    {
     "data": {
      "text/plain": [
       "<convokit.model.corpus.Corpus at 0x15a46df10>"
      ]
     },
     "execution_count": 25,
     "metadata": {},
     "output_type": "execute_result"
    }
   ],
   "source": [
    "corpus"
   ]
  },
  {
   "cell_type": "code",
   "execution_count": 26,
   "id": "d31f3835",
   "metadata": {},
   "outputs": [
    {
     "name": "stdout",
     "output_type": "stream",
     "text": [
      "Utterance(id: 'L643975', conversation_id: L643969, reply-to: L643974, speaker: Speaker(id: u8808, vectors: [], meta: {'character_name': 'AMES', 'movie_idx': 'm598', 'movie_name': 'wag the dog', 'gender': 'f', 'credit_pos': '3'}), timestamp: None, text: 'And I take this <u>opportunity</u> to suggest that, equally, I admit to <u>nothing</u>, and that I would like my lawyer present.', vectors: [], meta: {'movie_id': 'm598', 'parsed': [{'rt': 2, 'toks': [{'tok': 'And', 'tag': 'CC', 'dep': 'cc', 'up': 2, 'dn': []}, {'tok': 'I', 'tag': 'PRP', 'dep': 'nsubj', 'up': 2, 'dn': []}, {'tok': 'take', 'tag': 'VBP', 'dep': 'ROOT', 'dn': [0, 1, 5, 8, 10, 32]}, {'tok': 'this', 'tag': 'DT', 'dep': 'det', 'up': 5, 'dn': []}, {'tok': '<', 'tag': 'XX', 'dep': 'nmod', 'up': 5, 'dn': []}, {'tok': 'u', 'tag': 'NN', 'dep': 'dobj', 'up': 2, 'dn': [3, 4, 6, 7]}, {'tok': '>', 'tag': 'XX', 'dep': 'punct', 'up': 5, 'dn': []}, {'tok': 'opportunity</u', 'tag': 'IN', 'dep': 'punct', 'up': 5, 'dn': []}, {'tok': '>', 'tag': 'XX', 'dep': 'dobj', 'up': 2, 'dn': []}, {'tok': 'to', 'tag': 'TO', 'dep': 'aux', 'up': 10, 'dn': []}, {'tok': 'suggest', 'tag': 'VB', 'dep': 'advcl', 'up': 2, 'dn': [9, 16]}, {'tok': 'that', 'tag': 'IN', 'dep': 'mark', 'up': 16, 'dn': []}, {'tok': ',', 'tag': ',', 'dep': 'punct', 'up': 16, 'dn': []}, {'tok': 'equally', 'tag': 'RB', 'dep': 'advmod', 'up': 16, 'dn': []}, {'tok': ',', 'tag': ',', 'dep': 'punct', 'up': 16, 'dn': []}, {'tok': 'I', 'tag': 'PRP', 'dep': 'nsubj', 'up': 16, 'dn': []}, {'tok': 'admit', 'tag': 'VBP', 'dep': 'ccomp', 'up': 10, 'dn': [11, 12, 13, 14, 15, 17, 23, 24, 28]}, {'tok': 'to', 'tag': 'IN', 'dep': 'prep', 'up': 16, 'dn': [19]}, {'tok': '<', 'tag': 'XX', 'dep': 'nmod', 'up': 19, 'dn': []}, {'tok': 'u', 'tag': 'NNP', 'dep': 'pobj', 'up': 17, 'dn': [18, 20]}, {'tok': '>', 'tag': 'XX', 'dep': 'nummod', 'up': 19, 'dn': [21]}, {'tok': 'nothing</u', 'tag': 'NNP', 'dep': 'appos', 'up': 20, 'dn': [22]}, {'tok': '>', 'tag': 'XX', 'dep': 'nummod', 'up': 21, 'dn': []}, {'tok': ',', 'tag': ',', 'dep': 'punct', 'up': 16, 'dn': []}, {'tok': 'and', 'tag': 'CC', 'dep': 'cc', 'up': 16, 'dn': []}, {'tok': 'that', 'tag': 'IN', 'dep': 'mark', 'up': 28, 'dn': []}, {'tok': 'I', 'tag': 'PRP', 'dep': 'nsubj', 'up': 28, 'dn': []}, {'tok': 'would', 'tag': 'MD', 'dep': 'aux', 'up': 28, 'dn': []}, {'tok': 'like', 'tag': 'VB', 'dep': 'conj', 'up': 16, 'dn': [25, 26, 27, 30]}, {'tok': 'my', 'tag': 'PRP$', 'dep': 'poss', 'up': 30, 'dn': []}, {'tok': 'lawyer', 'tag': 'NN', 'dep': 'dobj', 'up': 28, 'dn': [29, 31]}, {'tok': 'present', 'tag': 'JJ', 'dep': 'amod', 'up': 30, 'dn': []}, {'tok': '.', 'tag': '.', 'dep': 'punct', 'up': 2, 'dn': []}]}]})\n"
     ]
    }
   ],
   "source": [
    "utt = corpus.random_utterance()\n",
    "print(utt)"
   ]
  },
  {
   "cell_type": "code",
   "execution_count": 32,
   "id": "1b109ec1",
   "metadata": {
    "scrolled": true
   },
   "outputs": [
    {
     "data": {
      "text/plain": [
       "0          301\n",
       "1          301\n",
       "2          301\n",
       "3          301\n",
       "4          301\n",
       "          ... \n",
       "9212872     13\n",
       "9212873     13\n",
       "9212874     13\n",
       "9212875     13\n",
       "9212876     13\n",
       "Name: folder, Length: 9212877, dtype: object"
      ]
     },
     "execution_count": 32,
     "metadata": {},
     "output_type": "execute_result"
    }
   ],
   "source": [
    "df_u = pd.read_csv(\"dialogueText_196.csv\")\n",
    "df_u['folder'].astype(str)"
   ]
  },
  {
   "cell_type": "code",
   "execution_count": 33,
   "id": "c856aa1f",
   "metadata": {},
   "outputs": [
    {
     "name": "stdout",
     "output_type": "stream",
     "text": [
      "         folder dialogueID                      date      from        to  \\\n",
      "0           301      1.tsv  2004-11-23T11:49:00.000Z   stuNNed       NaN   \n",
      "1           301      1.tsv  2004-11-23T11:49:00.000Z   crimsun   stuNNed   \n",
      "2           301      1.tsv  2004-11-23T11:49:00.000Z   stuNNed   crimsun   \n",
      "3           301      1.tsv  2004-11-23T11:49:00.000Z   crimsun   stuNNed   \n",
      "4           301      1.tsv  2004-11-23T11:50:00.000Z   stuNNed   crimsun   \n",
      "...         ...        ...                       ...       ...       ...   \n",
      "8957939      13      1.tsv  2004-11-10T11:12:00.000Z  lifeless  hectorvs   \n",
      "8957940      13      1.tsv  2004-11-10T11:12:00.000Z  lifeless  hectorvs   \n",
      "8957941      13      1.tsv  2004-11-10T11:13:00.000Z  hectorvs  lifeless   \n",
      "8957942      13      1.tsv  2004-11-10T11:21:00.000Z  hectorvs  lifeless   \n",
      "8957943      13      1.tsv  2004-11-10T11:28:00.000Z  lifeless  hectorvs   \n",
      "\n",
      "                                                      text  \n",
      "0         any ideas why java plugin takes so long to load?  \n",
      "1                                                java 1.4?  \n",
      "2                                                      yes  \n",
      "3                             java 1.5 loads _much_ faster  \n",
      "4        noneus: how can i get 1.5 is there a .deb some...  \n",
      "...                                                    ...  \n",
      "8957939                                then I'm at a loss.  \n",
      "8957940                                        try grep -i  \n",
      "8957941         nope glxinfo | grep -i mesa, still nothing  \n",
      "8957942                  you have a 9600 mobility, right??  \n",
      "8957943                                                yes  \n",
      "\n",
      "[32901 rows x 6 columns]\n"
     ]
    },
    {
     "data": {
      "text/plain": [
       "346108"
      ]
     },
     "execution_count": 33,
     "metadata": {},
     "output_type": "execute_result"
    }
   ],
   "source": [
    "df_u[df_u[\"folder\"]==60]\n",
    "print(df_u[df_u[\"dialogueID\"]==\"1.tsv\"])\n",
    "len(df_u[\"dialogueID\"].unique())"
   ]
  },
  {
   "cell_type": "code",
   "execution_count": 41,
   "id": "985cf708",
   "metadata": {},
   "outputs": [],
   "source": [
    "a = {}\n",
    "\n",
    "a = df_u.groupby('folder').apply(lambda x: pd.DataFrame(zip(x['dialogueID'], (x['from']+':'+x['text'])))\n",
    "                                 .groupby(0)[1].apply(list).to_dict()).to_dict()\n"
   ]
  },
  {
   "cell_type": "code",
   "execution_count": 46,
   "id": "27387681",
   "metadata": {},
   "outputs": [],
   "source": [
    "import csv\n",
    "with open('dict.csv', 'w+') as f:\n",
    "    writer = csv.writer(f, delimiter=\",\")\n",
    "    writer.writerow(['Folder and DialogueID','Conversation'])\n",
    "    for i,j in a.items():\n",
    "        for x,y in j.items():\n",
    "            writer.writerow([(i,x),y])\n",
    "    f.close()"
   ]
  },
  {
   "cell_type": "code",
   "execution_count": 64,
   "id": "a8548cc2",
   "metadata": {},
   "outputs": [
    {
     "data": {
      "text/html": [
       "<div>\n",
       "<style scoped>\n",
       "    .dataframe tbody tr th:only-of-type {\n",
       "        vertical-align: middle;\n",
       "    }\n",
       "\n",
       "    .dataframe tbody tr th {\n",
       "        vertical-align: top;\n",
       "    }\n",
       "\n",
       "    .dataframe thead th {\n",
       "        text-align: right;\n",
       "    }\n",
       "</style>\n",
       "<table border=\"1\" class=\"dataframe\">\n",
       "  <thead>\n",
       "    <tr style=\"text-align: right;\">\n",
       "      <th></th>\n",
       "      <th>Folder and DialogueID</th>\n",
       "      <th>Conversation</th>\n",
       "    </tr>\n",
       "  </thead>\n",
       "  <tbody>\n",
       "    <tr>\n",
       "      <th>0</th>\n",
       "      <td>(3, '1.tsv')</td>\n",
       "      <td>[\"seth:Also guys, I'm trying to get into my FI...</td>\n",
       "    </tr>\n",
       "    <tr>\n",
       "      <th>1</th>\n",
       "      <td>(3, '10.tsv')</td>\n",
       "      <td>['jdz`:ugh ;(  http://planet.ubuntulinux.org s...</td>\n",
       "    </tr>\n",
       "    <tr>\n",
       "      <th>2</th>\n",
       "      <td>(3, '100.tsv')</td>\n",
       "      <td>['GNU-Ubuntu:ohh to late', 'GNU-Ubuntu:http://...</td>\n",
       "    </tr>\n",
       "    <tr>\n",
       "      <th>3</th>\n",
       "      <td>(3, '1000.tsv')</td>\n",
       "      <td>['TJ-:see bug 67085', 'TJ-:sorry, typo, ignore...</td>\n",
       "    </tr>\n",
       "    <tr>\n",
       "      <th>4</th>\n",
       "      <td>(3, '10000.tsv')</td>\n",
       "      <td>[\"celltech:How do I get out of this annoying u...</td>\n",
       "    </tr>\n",
       "    <tr>\n",
       "      <th>...</th>\n",
       "      <td>...</td>\n",
       "      <td>...</td>\n",
       "    </tr>\n",
       "    <tr>\n",
       "      <th>1008386</th>\n",
       "      <td>(527, '1.tsv')</td>\n",
       "      <td>[\"mdz:setuid /bin/mount is going to be disable...</td>\n",
       "    </tr>\n",
       "    <tr>\n",
       "      <th>1008387</th>\n",
       "      <td>(564, '1.tsv')</td>\n",
       "      <td>['mcdenyer:where can i make folders like a dow...</td>\n",
       "    </tr>\n",
       "    <tr>\n",
       "      <th>1008388</th>\n",
       "      <td>(596, '1.tsv')</td>\n",
       "      <td>[\"Evanlec:oh lord can someone please help me.....</td>\n",
       "    </tr>\n",
       "    <tr>\n",
       "      <th>1008389</th>\n",
       "      <td>(738, '1.tsv')</td>\n",
       "      <td>[\"bullgard4:My computer stores about 40 files ...</td>\n",
       "    </tr>\n",
       "    <tr>\n",
       "      <th>1008390</th>\n",
       "      <td>(760, '1.tsv')</td>\n",
       "      <td>['indus:i think medibuntu has realplayer also ...</td>\n",
       "    </tr>\n",
       "  </tbody>\n",
       "</table>\n",
       "<p>1008391 rows × 2 columns</p>\n",
       "</div>"
      ],
      "text/plain": [
       "        Folder and DialogueID  \\\n",
       "0                (3, '1.tsv')   \n",
       "1               (3, '10.tsv')   \n",
       "2              (3, '100.tsv')   \n",
       "3             (3, '1000.tsv')   \n",
       "4            (3, '10000.tsv')   \n",
       "...                       ...   \n",
       "1008386        (527, '1.tsv')   \n",
       "1008387        (564, '1.tsv')   \n",
       "1008388        (596, '1.tsv')   \n",
       "1008389        (738, '1.tsv')   \n",
       "1008390        (760, '1.tsv')   \n",
       "\n",
       "                                              Conversation  \n",
       "0        [\"seth:Also guys, I'm trying to get into my FI...  \n",
       "1        ['jdz`:ugh ;(  http://planet.ubuntulinux.org s...  \n",
       "2        ['GNU-Ubuntu:ohh to late', 'GNU-Ubuntu:http://...  \n",
       "3        ['TJ-:see bug 67085', 'TJ-:sorry, typo, ignore...  \n",
       "4        [\"celltech:How do I get out of this annoying u...  \n",
       "...                                                    ...  \n",
       "1008386  [\"mdz:setuid /bin/mount is going to be disable...  \n",
       "1008387  ['mcdenyer:where can i make folders like a dow...  \n",
       "1008388  [\"Evanlec:oh lord can someone please help me.....  \n",
       "1008389  [\"bullgard4:My computer stores about 40 files ...  \n",
       "1008390  ['indus:i think medibuntu has realplayer also ...  \n",
       "\n",
       "[1008391 rows x 2 columns]"
      ]
     },
     "execution_count": 64,
     "metadata": {},
     "output_type": "execute_result"
    }
   ],
   "source": [
    "d = pd.read_csv(\"dict.csv\")\n",
    "d"
   ]
  },
  {
   "cell_type": "code",
   "execution_count": 47,
   "id": "436c030e",
   "metadata": {},
   "outputs": [],
   "source": [
    "# df_u['new_col'] = list(zip(df_u[\"from\"], df_u[\"to\"]))\n",
    "# df_u.loc[df_u['folder'] == 301]\n",
    "# uni = df_u['new_col'].unique()\n",
    "# len(df_u['new_col'].unique())"
   ]
  },
  {
   "cell_type": "code",
   "execution_count": 48,
   "id": "6cd01713",
   "metadata": {},
   "outputs": [],
   "source": [
    "# len(df_u['new_col'])"
   ]
  },
  {
   "cell_type": "code",
   "execution_count": 49,
   "id": "93e42d02",
   "metadata": {},
   "outputs": [],
   "source": [
    "# len(df_u['from'].unique())"
   ]
  },
  {
   "cell_type": "code",
   "execution_count": 50,
   "id": "9362301b",
   "metadata": {},
   "outputs": [],
   "source": [
    "# len(df_u['to'].unique())"
   ]
  },
  {
   "cell_type": "code",
   "execution_count": 51,
   "id": "dc4e891c",
   "metadata": {},
   "outputs": [],
   "source": [
    "# df_u"
   ]
  },
  {
   "cell_type": "code",
   "execution_count": 52,
   "id": "e1e29dc2",
   "metadata": {},
   "outputs": [],
   "source": [
    "# df_u['dialogueID'].dtypes\n",
    "# df_u.fillna('')\n",
    "# df_u"
   ]
  },
  {
   "cell_type": "code",
   "execution_count": 53,
   "id": "9a093732",
   "metadata": {
    "scrolled": true
   },
   "outputs": [],
   "source": [
    "# df_u = df_u.drop(columns = ['date', 'folder'], axis=1)\n",
    "# df_u[\"to\"]=df_u[\"to\"].astype(str)\n",
    "# print(df_u[\"to\"].iloc[0])\n",
    "# print(type(df_u[\"to\"].iloc[0]))\n",
    "# x = float('nan')\n",
    "# df_u[\"to\"].iloc[0]=='nan'"
   ]
  },
  {
   "cell_type": "code",
   "execution_count": 54,
   "id": "25289404",
   "metadata": {},
   "outputs": [],
   "source": [
    "# removing duplicates\n",
    "# df_u.drop_duplicates(keep='first')\n",
    "# df_u"
   ]
  },
  {
   "cell_type": "code",
   "execution_count": 55,
   "id": "e14d2118",
   "metadata": {},
   "outputs": [],
   "source": [
    "# # Cleaning all the dangling seekers\n",
    "\n",
    "# a = {}\n",
    "# for _,j in df_u.iterrows():\n",
    "#     if j[0] not in a:\n",
    "#         a[j[0]] = [j[4]]\n",
    "#     else:\n",
    "#         a[j[0]].append(j[4])\n",
    "# # for i in range(0, len(df_u)):\n",
    "# #     b += df_u[\"to\"].iloc[i]\n",
    "# #     a.update({df_u[\"dialogueID\"].iloc[i]:b})\n",
    "# #     a += ((df_u[\"dialogueID\"].iloc[i], df_u[\"to\"].iloc[i]))\n",
    "\n",
    "# print(list(a.items())[:5])\n",
    "# c = []\n",
    "# for i,j in a.items():\n",
    "#     if j.count('nan') > 1:\n",
    "#         c.append(i)\n",
    "    \n",
    "# #     if df_u[\"to\"].iloc[i]=='nan' and df_u[\"to\"].iloc[i+1]=='nan':\n",
    "# #         print(df_u[\"dialogueID\"].iloc[i])\n",
    "# #         df_u = df_u[df_u[\"from\"] != df_u[\"from\"].iloc[i]]"
   ]
  },
  {
   "cell_type": "code",
   "execution_count": 56,
   "id": "11ed3121",
   "metadata": {
    "scrolled": false
   },
   "outputs": [],
   "source": [
    "# c"
   ]
  },
  {
   "cell_type": "code",
   "execution_count": 57,
   "id": "ee6fdb03",
   "metadata": {},
   "outputs": [],
   "source": [
    "# for i in c:\n",
    "#     j = df_u[df_u[\"folder\"]==i].index\n",
    "#     df_u = df_u.drop(j)"
   ]
  },
  {
   "cell_type": "code",
   "execution_count": 58,
   "id": "95a59920",
   "metadata": {},
   "outputs": [],
   "source": [
    "# len(df_u)"
   ]
  },
  {
   "cell_type": "code",
   "execution_count": 59,
   "id": "d6532627",
   "metadata": {},
   "outputs": [],
   "source": [
    "# df_u[\"folder\"].unique()"
   ]
  },
  {
   "cell_type": "code",
   "execution_count": 60,
   "id": "ab14d008",
   "metadata": {},
   "outputs": [],
   "source": [
    "# a = dict()\n",
    "# for i in range(df_u):\n",
    "#     if df_u[\"to\"].iloc[i]=='nan':#df_u[\"to\"].iloc[i]==df_u[\"from\"].iloc[i+1]:\n",
    "#         b = \"Seeker0\" + \":\" + df_u[\"text\"].iloc[i]\n",
    "#     else if df_u[\"to\"].iloc[i-1]=='nan':\n",
    "#         b = \"Response0\" + \":\" + df_u[\"text\"].iloc[i]\n",
    "#     else:\n",
    "#         b = df_u[\"from\"].iloc[i] + \",\" + df_u[\"to\"].iloc[i] + \":\" + df_u[\"text\"].iloc[i]\n",
    "#     a.update({df_u[\"dialogueID\"].iloc[i] : b})"
   ]
  },
  {
   "cell_type": "code",
   "execution_count": 61,
   "id": "9cbb46a6",
   "metadata": {},
   "outputs": [],
   "source": [
    "# df_u.groupby(['dialogueID'])[ 'text'].apply(','.join).reset_index()"
   ]
  },
  {
   "cell_type": "code",
   "execution_count": 62,
   "id": "8137c1a5",
   "metadata": {},
   "outputs": [],
   "source": [
    "# a = df_u[\"dialogueID\"].iloc[0]\n",
    "# print(a)\n",
    "# dict1 = {}\n",
    "# b = []\n",
    "# for i in range(0, len(df_u)):\n",
    "#     if df_u[\"dialogueID\"].iloc[i]==a:\n",
    "#         b += df_u[\"from\"] + \"to\" + df_u[\"to\"] + \":\" + df_u[\"text\"]\n",
    "#     else:\n",
    "#         print(b)\n",
    "#         dict1[a] = b\n",
    "#         a = df_u[\"dialogueID\"].iloc[i]\n",
    "# df_c = pd.DataFrame(dict1.items())"
   ]
  },
  {
   "cell_type": "code",
   "execution_count": 63,
   "id": "728e2de3",
   "metadata": {},
   "outputs": [],
   "source": [
    "# df_c"
   ]
  }
 ],
 "metadata": {
  "kernelspec": {
   "display_name": "Python 3 (ipykernel)",
   "language": "python",
   "name": "python3"
  },
  "language_info": {
   "codemirror_mode": {
    "name": "ipython",
    "version": 3
   },
   "file_extension": ".py",
   "mimetype": "text/x-python",
   "name": "python",
   "nbconvert_exporter": "python",
   "pygments_lexer": "ipython3",
   "version": "3.9.15"
  }
 },
 "nbformat": 4,
 "nbformat_minor": 5
}
