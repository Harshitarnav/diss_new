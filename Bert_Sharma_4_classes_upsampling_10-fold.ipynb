{
 "cells": [
  {
   "cell_type": "code",
   "execution_count": 38,
   "id": "4a825562",
   "metadata": {},
   "outputs": [],
   "source": [
    "import pandas as pd\n",
    "import numpy as np\n",
    "from tqdm.auto import tqdm\n",
    "import tensorflow as tf\n",
    "# !pip install transformers\n",
    "from transformers import BertTokenizer\n",
    "from sklearn.model_selection import KFold\n",
    "from sklearn.utils import resample\n",
    "from sklearn.model_selection import train_test_split"
   ]
  },
  {
   "cell_type": "code",
   "execution_count": 39,
   "id": "18ac5487",
   "metadata": {},
   "outputs": [
    {
     "data": {
      "text/plain": [
       "2    67\n",
       "3    67\n",
       "1    67\n",
       "0    67\n",
       "Name: seek_response, dtype: int64"
      ]
     },
     "execution_count": 39,
     "metadata": {},
     "output_type": "execute_result"
    }
   ],
   "source": [
    "# Upsampling the 4 class division of Sharma dataset where the maximum class count is 67\n",
    "sharma_4 = pd.read_csv(\"Sharma_4_class.csv\")\n",
    "\n",
    "class_counts = sharma_4['seek_response'].value_counts()\n",
    "sharma_4_upsampled = pd.DataFrame()\n",
    "\n",
    "for i,j in class_counts.items():\n",
    "    if (j == 67):\n",
    "        df_majority = sharma_4[sharma_4[\"seek_response\"]==i]\n",
    "        \n",
    "        # Combine majority class with empty class\n",
    "        sharma_4_upsampled = pd.concat([sharma_4_upsampled,df_majority])\n",
    "        continue\n",
    "    else:\n",
    "        df_minority = sharma_4[sharma_4[\"seek_response\"]==i]\n",
    "        # Upsample minority class\n",
    "        df_minority_upsampled = resample(df_minority, \n",
    "                                 replace=True,     # sample with replacement\n",
    "                                 n_samples=67,    # to match majority class\n",
    "                                 random_state=123) # reproducible results\n",
    " \n",
    "        # Combine minority class with other classes class\n",
    "        sharma_4_upsampled = pd.concat([sharma_4_upsampled, df_minority_upsampled])\n",
    "\n",
    "sharma_4_upsampled = sharma_4_upsampled.loc[:, ~sharma_4_upsampled.columns.str.contains('^Unnamed')]\n",
    "sharma_4_upsampled = sharma_4_upsampled.drop(['seeker_post','seeking?','response_post','level'], axis=1)\n",
    "\n",
    "sharma_4_upsampled['seek_response'].value_counts()\n",
    "# sharma_4_upsampled"
   ]
  },
  {
   "cell_type": "code",
   "execution_count": 40,
   "id": "ec5d9b3b",
   "metadata": {},
   "outputs": [
    {
     "data": {
      "text/plain": [
       "214"
      ]
     },
     "execution_count": 40,
     "metadata": {},
     "output_type": "execute_result"
    }
   ],
   "source": [
    "train_val, test = train_test_split(sharma_4_upsampled, test_size=0.2)\n",
    "len(train_val)"
   ]
  },
  {
   "cell_type": "code",
   "execution_count": 41,
   "id": "0b6074d3",
   "metadata": {},
   "outputs": [
    {
     "name": "stdout",
     "output_type": "stream",
     "text": [
      "46\n"
     ]
    }
   ],
   "source": [
    "# find duplicates by performing an inner join\n",
    "duplicates = train_val.merge(test, on=['seek_response', '2_utterance_convo'], how='inner')\n",
    "\n",
    "# check the number of duplicates\n",
    "print(len(duplicates))"
   ]
  },
  {
   "cell_type": "code",
   "execution_count": 42,
   "id": "6daba1cf",
   "metadata": {},
   "outputs": [],
   "source": [
    "tokenizer = BertTokenizer.from_pretrained('bert-base-cased')"
   ]
  },
  {
   "cell_type": "code",
   "execution_count": 43,
   "id": "08b3ea77",
   "metadata": {},
   "outputs": [],
   "source": [
    "token = tokenizer.encode_plus(\n",
    "    train_val['2_utterance_convo'].iloc[0], \n",
    "    max_length=256, \n",
    "    truncation=True, \n",
    "    padding='max_length', \n",
    "    add_special_tokens=True,\n",
    "    return_tensors='tf'\n",
    ")"
   ]
  },
  {
   "cell_type": "code",
   "execution_count": 44,
   "id": "6816d2d6",
   "metadata": {},
   "outputs": [],
   "source": [
    "X_input_ids = np.zeros((len(train_val), 256))\n",
    "X_attn_masks = np.zeros((len(train_val), 256))"
   ]
  },
  {
   "cell_type": "code",
   "execution_count": 45,
   "id": "a6eed286",
   "metadata": {},
   "outputs": [],
   "source": [
    "def generate_training_data(df_balanced, ids, masks, tokenizer):\n",
    "    for i, text in tqdm(enumerate(train_val['2_utterance_convo'])):\n",
    "        tokenized_text = tokenizer.encode_plus(\n",
    "            text,\n",
    "            max_length=256, \n",
    "            truncation=True, \n",
    "            padding='max_length', \n",
    "            add_special_tokens=True,\n",
    "            return_tensors='tf'\n",
    "        )\n",
    "        ids[i, :] = tokenized_text.input_ids\n",
    "        masks[i, :] = tokenized_text.attention_mask\n",
    "    return ids, masks"
   ]
  },
  {
   "cell_type": "code",
   "execution_count": 46,
   "id": "edaad330",
   "metadata": {},
   "outputs": [
    {
     "data": {
      "text/plain": [
       "(214, 4)"
      ]
     },
     "execution_count": 46,
     "metadata": {},
     "output_type": "execute_result"
    }
   ],
   "source": [
    "labels = np.zeros((len(train_val), 4))\n",
    "labels.shape"
   ]
  },
  {
   "cell_type": "code",
   "execution_count": 47,
   "id": "4a5b8266",
   "metadata": {},
   "outputs": [],
   "source": [
    "labels[np.arange(len(train_val)), train_val['seek_response'].values] = 1 # one-hot encoded target tensor"
   ]
  },
  {
   "cell_type": "code",
   "execution_count": 48,
   "id": "d6bff781",
   "metadata": {},
   "outputs": [],
   "source": [
    "def SentimentDatasetMapFunction(input_ids, attn_masks, labels):\n",
    "    return {\n",
    "        'input_ids': input_ids,\n",
    "        'attention_mask': attn_masks\n",
    "    }, labels"
   ]
  },
  {
   "cell_type": "code",
   "execution_count": 49,
   "id": "c6a530b9",
   "metadata": {},
   "outputs": [
    {
     "name": "stderr",
     "output_type": "stream",
     "text": [
      "Some layers from the model checkpoint at bert-base-cased were not used when initializing TFBertModel: ['mlm___cls', 'nsp___cls']\n",
      "- This IS expected if you are initializing TFBertModel from the checkpoint of a model trained on another task or with another architecture (e.g. initializing a BertForSequenceClassification model from a BertForPreTraining model).\n",
      "- This IS NOT expected if you are initializing TFBertModel from the checkpoint of a model that you expect to be exactly identical (initializing a BertForSequenceClassification model from a BertForSequenceClassification model).\n",
      "All the layers of TFBertModel were initialized from the model checkpoint at bert-base-cased.\n",
      "If your task is similar to the task the model of the checkpoint was trained on, you can already use TFBertModel for predictions without further training.\n"
     ]
    },
    {
     "name": "stdout",
     "output_type": "stream",
     "text": [
      "Model: \"model_2\"\n",
      "__________________________________________________________________________________________________\n",
      " Layer (type)                   Output Shape         Param #     Connected to                     \n",
      "==================================================================================================\n",
      " input_ids (InputLayer)         [(None, 256)]        0           []                               \n",
      "                                                                                                  \n",
      " attention_mask (InputLayer)    [(None, 256)]        0           []                               \n",
      "                                                                                                  \n",
      " bert (TFBertMainLayer)         TFBaseModelOutputWi  108310272   ['input_ids[0][0]',              \n",
      "                                thPoolingAndCrossAt               'attention_mask[0][0]']         \n",
      "                                tentions(last_hidde                                               \n",
      "                                n_state=(None, 256,                                               \n",
      "                                 768),                                                            \n",
      "                                 pooler_output=(Non                                               \n",
      "                                e, 768),                                                          \n",
      "                                 past_key_values=No                                               \n",
      "                                ne, hidden_states=N                                               \n",
      "                                one, attentions=Non                                               \n",
      "                                e, cross_attentions                                               \n",
      "                                =None)                                                            \n",
      "                                                                                                  \n",
      " intermediate_layer (Dense)     (None, 512)          393728      ['bert[0][1]']                   \n",
      "                                                                                                  \n",
      " output_layer (Dense)           (None, 4)            2052        ['intermediate_layer[0][0]']     \n",
      "                                                                                                  \n",
      "==================================================================================================\n",
      "Total params: 108,706,052\n",
      "Trainable params: 108,706,052\n",
      "Non-trainable params: 0\n",
      "__________________________________________________________________________________________________\n"
     ]
    }
   ],
   "source": [
    "from transformers import TFBertModel\n",
    "\n",
    "model = TFBertModel.from_pretrained('bert-base-cased') # bert base model with pretrained weights\n",
    "\n",
    "# defining 2 input layers for input_ids and attn_masks\n",
    "input_ids = tf.keras.layers.Input(shape=(256,), name='input_ids', dtype='int32')\n",
    "attn_masks = tf.keras.layers.Input(shape=(256,), name='attention_mask', dtype='int32')\n",
    "\n",
    "bert_embds = model.bert(input_ids, attention_mask=attn_masks)[1] # 0 -> activation layer (3D), 1 -> pooled output layer (2D)\n",
    "intermediate_layer = tf.keras.layers.Dense(512, activation='relu', name='intermediate_layer')(bert_embds)\n",
    "output_layer = tf.keras.layers.Dense(4, activation='softmax', name='output_layer')(intermediate_layer) # softmax -> calcs probs of classes\n",
    "\n",
    "sentiment_model = tf.keras.Model(inputs=[input_ids, attn_masks], outputs=output_layer)\n",
    "sentiment_model.summary()"
   ]
  },
  {
   "cell_type": "code",
   "execution_count": 50,
   "id": "6d37cd83",
   "metadata": {},
   "outputs": [],
   "source": [
    "optim = tf.keras.optimizers.legacy.Adam(learning_rate=1e-5, decay=1e-6)\n",
    "loss_func = tf.keras.losses.CategoricalCrossentropy()\n",
    "acc = tf.keras.metrics.CategoricalAccuracy('accuracy')\n",
    "sentiment_model.compile(optimizer=optim, loss=loss_func, metrics=[acc])"
   ]
  },
  {
   "cell_type": "code",
   "execution_count": 51,
   "id": "4081c233",
   "metadata": {},
   "outputs": [
    {
     "data": {
      "application/vnd.jupyter.widget-view+json": {
       "model_id": "3d68a74dcb4a4c93a9ad6b9c8b520c58",
       "version_major": 2,
       "version_minor": 0
      },
      "text/plain": [
       "0it [00:00, ?it/s]"
      ]
     },
     "metadata": {},
     "output_type": "display_data"
    },
    {
     "data": {
      "application/vnd.jupyter.widget-view+json": {
       "model_id": "13a754819bbb4063bbbffc9deac2d1a4",
       "version_major": 2,
       "version_minor": 0
      },
      "text/plain": [
       "0it [00:00, ?it/s]"
      ]
     },
     "metadata": {},
     "output_type": "display_data"
    },
    {
     "name": "stdout",
     "output_type": "stream",
     "text": [
      "1\n",
      "Epoch 1/2\n"
     ]
    },
    {
     "name": "stderr",
     "output_type": "stream",
     "text": [
      "2023-02-13 23:24:02.819081: I tensorflow/core/grappler/optimizers/custom_graph_optimizer_registry.cc:114] Plugin optimizer for device_type GPU is enabled.\n"
     ]
    },
    {
     "name": "stdout",
     "output_type": "stream",
     "text": [
      "13/13 [==============================] - ETA: 0s - loss: 1.4266 - accuracy: 0.2500"
     ]
    },
    {
     "name": "stderr",
     "output_type": "stream",
     "text": [
      "2023-02-13 23:24:43.617664: I tensorflow/core/grappler/optimizers/custom_graph_optimizer_registry.cc:114] Plugin optimizer for device_type GPU is enabled.\n"
     ]
    },
    {
     "name": "stdout",
     "output_type": "stream",
     "text": [
      "13/13 [==============================] - 56s 2s/step - loss: 1.4266 - accuracy: 0.2500 - val_loss: 1.3516 - val_accuracy: 0.3317\n",
      "Epoch 2/2\n",
      "13/13 [==============================] - 21s 2s/step - loss: 1.3562 - accuracy: 0.3173 - val_loss: 1.3019 - val_accuracy: 0.5577\n"
     ]
    },
    {
     "data": {
      "application/vnd.jupyter.widget-view+json": {
       "model_id": "cfbcb734e4004f17b5455656c2172166",
       "version_major": 2,
       "version_minor": 0
      },
      "text/plain": [
       "0it [00:00, ?it/s]"
      ]
     },
     "metadata": {},
     "output_type": "display_data"
    },
    {
     "data": {
      "application/vnd.jupyter.widget-view+json": {
       "model_id": "cf69735c514e49ee827d2e0c527f9f4c",
       "version_major": 2,
       "version_minor": 0
      },
      "text/plain": [
       "0it [00:00, ?it/s]"
      ]
     },
     "metadata": {},
     "output_type": "display_data"
    },
    {
     "name": "stdout",
     "output_type": "stream",
     "text": [
      "2\n",
      "Epoch 1/2\n",
      "13/13 [==============================] - 22s 2s/step - loss: 1.3039 - accuracy: 0.5096 - val_loss: 1.2240 - val_accuracy: 0.6731\n",
      "Epoch 2/2\n",
      "13/13 [==============================] - 23s 2s/step - loss: 1.2107 - accuracy: 0.5288 - val_loss: 1.0365 - val_accuracy: 0.6010\n"
     ]
    },
    {
     "data": {
      "application/vnd.jupyter.widget-view+json": {
       "model_id": "35248d887d654a7f9024a7988b28be44",
       "version_major": 2,
       "version_minor": 0
      },
      "text/plain": [
       "0it [00:00, ?it/s]"
      ]
     },
     "metadata": {},
     "output_type": "display_data"
    },
    {
     "data": {
      "application/vnd.jupyter.widget-view+json": {
       "model_id": "f45a38941bbc4b53bb1fdd53c6b9b71c",
       "version_major": 2,
       "version_minor": 0
      },
      "text/plain": [
       "0it [00:00, ?it/s]"
      ]
     },
     "metadata": {},
     "output_type": "display_data"
    },
    {
     "name": "stdout",
     "output_type": "stream",
     "text": [
      "3\n",
      "Epoch 1/2\n",
      "13/13 [==============================] - 29s 2s/step - loss: 1.0347 - accuracy: 0.6635 - val_loss: 0.8799 - val_accuracy: 0.6731\n",
      "Epoch 2/2\n",
      "13/13 [==============================] - 21s 2s/step - loss: 0.8755 - accuracy: 0.6827 - val_loss: 0.7455 - val_accuracy: 0.7452\n"
     ]
    },
    {
     "data": {
      "application/vnd.jupyter.widget-view+json": {
       "model_id": "2c1c49abf2ef4bbd8f62849dec1747f4",
       "version_major": 2,
       "version_minor": 0
      },
      "text/plain": [
       "0it [00:00, ?it/s]"
      ]
     },
     "metadata": {},
     "output_type": "display_data"
    },
    {
     "data": {
      "application/vnd.jupyter.widget-view+json": {
       "model_id": "533e2b38b55a427290c6b8fdc0778b27",
       "version_major": 2,
       "version_minor": 0
      },
      "text/plain": [
       "0it [00:00, ?it/s]"
      ]
     },
     "metadata": {},
     "output_type": "display_data"
    },
    {
     "name": "stdout",
     "output_type": "stream",
     "text": [
      "4\n",
      "Epoch 1/2\n",
      "13/13 [==============================] - 22s 2s/step - loss: 0.6754 - accuracy: 0.7885 - val_loss: 0.5511 - val_accuracy: 0.8173\n",
      "Epoch 2/2\n",
      "13/13 [==============================] - 22s 2s/step - loss: 0.5495 - accuracy: 0.8029 - val_loss: 0.3601 - val_accuracy: 0.9423\n"
     ]
    },
    {
     "data": {
      "application/vnd.jupyter.widget-view+json": {
       "model_id": "8dc56635e2aa4082831a6b6fd388bf9c",
       "version_major": 2,
       "version_minor": 0
      },
      "text/plain": [
       "0it [00:00, ?it/s]"
      ]
     },
     "metadata": {},
     "output_type": "display_data"
    },
    {
     "data": {
      "application/vnd.jupyter.widget-view+json": {
       "model_id": "24ac80d027c14fb1877a1dbd2fd6810f",
       "version_major": 2,
       "version_minor": 0
      },
      "text/plain": [
       "0it [00:00, ?it/s]"
      ]
     },
     "metadata": {},
     "output_type": "display_data"
    },
    {
     "name": "stdout",
     "output_type": "stream",
     "text": [
      "5\n",
      "Epoch 1/2\n",
      "13/13 [==============================] - 22s 2s/step - loss: 0.4225 - accuracy: 0.8846 - val_loss: 0.2499 - val_accuracy: 0.9712\n",
      "Epoch 2/2\n",
      "13/13 [==============================] - 24s 2s/step - loss: 0.3086 - accuracy: 0.9135 - val_loss: 0.1642 - val_accuracy: 0.9904\n"
     ]
    },
    {
     "data": {
      "application/vnd.jupyter.widget-view+json": {
       "model_id": "3ac9bd7bb5c54bef842b80c76c59a885",
       "version_major": 2,
       "version_minor": 0
      },
      "text/plain": [
       "0it [00:00, ?it/s]"
      ]
     },
     "metadata": {},
     "output_type": "display_data"
    },
    {
     "data": {
      "application/vnd.jupyter.widget-view+json": {
       "model_id": "ea43c198d64c403f9566bd58ca06d279",
       "version_major": 2,
       "version_minor": 0
      },
      "text/plain": [
       "0it [00:00, ?it/s]"
      ]
     },
     "metadata": {},
     "output_type": "display_data"
    },
    {
     "name": "stdout",
     "output_type": "stream",
     "text": [
      "6\n",
      "Epoch 1/2\n",
      "13/13 [==============================] - 22s 2s/step - loss: 0.2597 - accuracy: 0.9327 - val_loss: 0.1403 - val_accuracy: 0.9904\n",
      "Epoch 2/2\n",
      "13/13 [==============================] - 21s 2s/step - loss: 0.2176 - accuracy: 0.9279 - val_loss: 0.1105 - val_accuracy: 0.9856\n"
     ]
    },
    {
     "data": {
      "application/vnd.jupyter.widget-view+json": {
       "model_id": "c4666a654e7c415e86b657605ce14d7a",
       "version_major": 2,
       "version_minor": 0
      },
      "text/plain": [
       "0it [00:00, ?it/s]"
      ]
     },
     "metadata": {},
     "output_type": "display_data"
    },
    {
     "data": {
      "application/vnd.jupyter.widget-view+json": {
       "model_id": "ae5ccedb14d74682a1d40ccc212aeec8",
       "version_major": 2,
       "version_minor": 0
      },
      "text/plain": [
       "0it [00:00, ?it/s]"
      ]
     },
     "metadata": {},
     "output_type": "display_data"
    },
    {
     "name": "stdout",
     "output_type": "stream",
     "text": [
      "7\n",
      "Epoch 1/2\n",
      "13/13 [==============================] - 22s 2s/step - loss: 0.1438 - accuracy: 0.9663 - val_loss: 0.0692 - val_accuracy: 1.0000\n",
      "Epoch 2/2\n",
      "13/13 [==============================] - 29s 2s/step - loss: 0.0981 - accuracy: 0.9808 - val_loss: 0.0538 - val_accuracy: 1.0000\n"
     ]
    },
    {
     "data": {
      "application/vnd.jupyter.widget-view+json": {
       "model_id": "15956fca6a9b4058800a340c8d9fd6fe",
       "version_major": 2,
       "version_minor": 0
      },
      "text/plain": [
       "0it [00:00, ?it/s]"
      ]
     },
     "metadata": {},
     "output_type": "display_data"
    },
    {
     "data": {
      "application/vnd.jupyter.widget-view+json": {
       "model_id": "fdeb720230a44392a79dd22dad767f89",
       "version_major": 2,
       "version_minor": 0
      },
      "text/plain": [
       "0it [00:00, ?it/s]"
      ]
     },
     "metadata": {},
     "output_type": "display_data"
    },
    {
     "name": "stdout",
     "output_type": "stream",
     "text": [
      "8\n",
      "Epoch 1/2\n",
      "13/13 [==============================] - 59s 3s/step - loss: 0.0984 - accuracy: 0.9663 - val_loss: 0.0490 - val_accuracy: 1.0000\n",
      "Epoch 2/2\n",
      "13/13 [==============================] - 72s 5s/step - loss: 0.0575 - accuracy: 1.0000 - val_loss: 0.0294 - val_accuracy: 1.0000\n"
     ]
    },
    {
     "data": {
      "application/vnd.jupyter.widget-view+json": {
       "model_id": "3f59a226d4a44e2bac2fb203c4522091",
       "version_major": 2,
       "version_minor": 0
      },
      "text/plain": [
       "0it [00:00, ?it/s]"
      ]
     },
     "metadata": {},
     "output_type": "display_data"
    },
    {
     "data": {
      "application/vnd.jupyter.widget-view+json": {
       "model_id": "60378000b72b45d788948a8a976afe64",
       "version_major": 2,
       "version_minor": 0
      },
      "text/plain": [
       "0it [00:00, ?it/s]"
      ]
     },
     "metadata": {},
     "output_type": "display_data"
    },
    {
     "name": "stdout",
     "output_type": "stream",
     "text": [
      "9\n",
      "Epoch 1/2\n",
      "13/13 [==============================] - 32s 2s/step - loss: 0.0446 - accuracy: 1.0000 - val_loss: 0.0217 - val_accuracy: 1.0000\n",
      "Epoch 2/2\n",
      "13/13 [==============================] - 24s 2s/step - loss: 0.0410 - accuracy: 0.9952 - val_loss: 0.0217 - val_accuracy: 1.0000\n"
     ]
    },
    {
     "data": {
      "application/vnd.jupyter.widget-view+json": {
       "model_id": "06ce87adee20413e977a524988e5c57a",
       "version_major": 2,
       "version_minor": 0
      },
      "text/plain": [
       "0it [00:00, ?it/s]"
      ]
     },
     "metadata": {},
     "output_type": "display_data"
    },
    {
     "data": {
      "application/vnd.jupyter.widget-view+json": {
       "model_id": "eb99cd94555c4468b88481cda02be6fa",
       "version_major": 2,
       "version_minor": 0
      },
      "text/plain": [
       "0it [00:00, ?it/s]"
      ]
     },
     "metadata": {},
     "output_type": "display_data"
    },
    {
     "name": "stdout",
     "output_type": "stream",
     "text": [
      "10\n",
      "Epoch 1/2\n",
      "13/13 [==============================] - 23s 2s/step - loss: 0.0370 - accuracy: 0.9952 - val_loss: 0.0171 - val_accuracy: 1.0000\n",
      "Epoch 2/2\n",
      "13/13 [==============================] - 22s 2s/step - loss: 0.0272 - accuracy: 1.0000 - val_loss: 0.0140 - val_accuracy: 1.0000\n"
     ]
    }
   ],
   "source": [
    "kf = KFold(n_splits=10)\n",
    "a=1\n",
    "for train_index, val_index in kf.split(train_val):\n",
    "    \n",
    "    df_train = train_val.iloc[train_index]\n",
    "    df_val = train_val.iloc[val_index]\n",
    "    \n",
    "    X_input_ids_train, X_attn_masks_train = generate_training_data(df_train, X_input_ids, X_attn_masks, tokenizer)\n",
    "    X_input_ids_val, X_attn_masks_val = generate_training_data(df_val, X_input_ids, X_attn_masks, tokenizer)\n",
    "\n",
    "    # creating a data pipeline using tensorflow dataset utility, creates batches of data for easy loading...\n",
    "    dataset_train = tf.data.Dataset.from_tensor_slices((X_input_ids_train, X_attn_masks_train, labels))\n",
    "    dataset_val = tf.data.Dataset.from_tensor_slices((X_input_ids_val, X_attn_masks_val, labels))\n",
    "\n",
    "    dataset_train = dataset_train.map(SentimentDatasetMapFunction) # converting to required format for tensorflow dataset \n",
    "    dataset_val = dataset_val.map(SentimentDatasetMapFunction)\n",
    "    \n",
    "    dataset_train = dataset_train.shuffle(10000).batch(16, drop_remainder=True) # batch size, drop any left out tensor\n",
    "    dataset_val = dataset_val.shuffle(10000).batch(16, drop_remainder=True)\n",
    "    \n",
    "    print(a)\n",
    "    a = a+1\n",
    "    hist = sentiment_model.fit(dataset_train,validation_data=dataset_val,epochs=2)"
   ]
  },
  {
   "cell_type": "code",
   "execution_count": 52,
   "id": "078e893c",
   "metadata": {
    "scrolled": false
   },
   "outputs": [
    {
     "name": "stderr",
     "output_type": "stream",
     "text": [
      "WARNING:absl:Found untraced functions such as embeddings_layer_call_fn, embeddings_layer_call_and_return_conditional_losses, encoder_layer_call_fn, encoder_layer_call_and_return_conditional_losses, pooler_layer_call_fn while saving (showing 5 of 420). These functions will not be directly callable after loading.\n"
     ]
    },
    {
     "name": "stdout",
     "output_type": "stream",
     "text": [
      "INFO:tensorflow:Assets written to: sentiment_model_4_upsample_10-fold/assets\n"
     ]
    },
    {
     "name": "stderr",
     "output_type": "stream",
     "text": [
      "INFO:tensorflow:Assets written to: sentiment_model_4_upsample_10-fold/assets\n"
     ]
    }
   ],
   "source": [
    "sentiment_model.save('sentiment_model_4_upsample_10-fold')"
   ]
  },
  {
   "cell_type": "code",
   "execution_count": 55,
   "id": "d03fa237",
   "metadata": {},
   "outputs": [],
   "source": [
    "sentiment_model_4 = tf.keras.models.load_model('sentiment_model_4_upsample_10-fold')\n",
    "\n",
    "tokenizer = BertTokenizer.from_pretrained('bert-base-cased')\n",
    "\n",
    "def prepare_data(input_text, tokenizer):\n",
    "    token = tokenizer.encode_plus(\n",
    "        input_text,\n",
    "        max_length=256, \n",
    "        truncation=True, \n",
    "        padding='max_length', \n",
    "        add_special_tokens=True,\n",
    "        return_tensors='tf'\n",
    "    )\n",
    "    return {\n",
    "        'input_ids': tf.cast(token.input_ids, tf.float64),\n",
    "        'attention_mask': tf.cast(token.attention_mask, tf.float64)\n",
    "    }\n",
    "\n",
    "def predict_class(processed_data):\n",
    "    '''predict class of input text\n",
    "  Args:\n",
    "    - reviews (list of strings)\n",
    "  Output:\n",
    "    - class (list of int)\n",
    "  '''\n",
    "    result = []\n",
    "    for i in processed_data:\n",
    "        pred = sentiment_model_4.predict(i)\n",
    "        result.append(np.argmax(pred))\n",
    "    return result\n"
   ]
  },
  {
   "cell_type": "code",
   "execution_count": 56,
   "id": "15198ac0",
   "metadata": {},
   "outputs": [
    {
     "name": "stderr",
     "output_type": "stream",
     "text": [
      "2023-02-13 23:55:32.086177: I tensorflow/core/grappler/optimizers/custom_graph_optimizer_registry.cc:114] Plugin optimizer for device_type GPU is enabled.\n"
     ]
    },
    {
     "name": "stdout",
     "output_type": "stream",
     "text": [
      "1/1 [==============================] - 11s 11s/step\n",
      "1/1 [==============================] - 1s 578ms/step\n",
      "1/1 [==============================] - 1s 511ms/step\n",
      "1/1 [==============================] - 0s 430ms/step\n",
      "1/1 [==============================] - 0s 338ms/step\n",
      "1/1 [==============================] - 0s 336ms/step\n",
      "1/1 [==============================] - 0s 238ms/step\n",
      "1/1 [==============================] - 0s 332ms/step\n",
      "1/1 [==============================] - 0s 220ms/step\n",
      "1/1 [==============================] - 0s 211ms/step\n",
      "1/1 [==============================] - 0s 355ms/step\n",
      "1/1 [==============================] - 0s 164ms/step\n",
      "1/1 [==============================] - 0s 211ms/step\n",
      "1/1 [==============================] - 0s 210ms/step\n",
      "1/1 [==============================] - 0s 191ms/step\n",
      "1/1 [==============================] - 0s 169ms/step\n",
      "1/1 [==============================] - 0s 183ms/step\n",
      "1/1 [==============================] - 0s 150ms/step\n",
      "1/1 [==============================] - 0s 191ms/step\n",
      "1/1 [==============================] - 0s 176ms/step\n",
      "1/1 [==============================] - 0s 182ms/step\n",
      "1/1 [==============================] - 0s 179ms/step\n",
      "1/1 [==============================] - 0s 153ms/step\n",
      "1/1 [==============================] - 0s 158ms/step\n",
      "1/1 [==============================] - 0s 136ms/step\n",
      "1/1 [==============================] - 0s 152ms/step\n",
      "1/1 [==============================] - 0s 157ms/step\n",
      "1/1 [==============================] - 0s 140ms/step\n",
      "1/1 [==============================] - 0s 143ms/step\n",
      "1/1 [==============================] - 0s 143ms/step\n",
      "1/1 [==============================] - 0s 147ms/step\n",
      "1/1 [==============================] - 0s 145ms/step\n",
      "1/1 [==============================] - 0s 159ms/step\n",
      "1/1 [==============================] - 0s 147ms/step\n",
      "1/1 [==============================] - 0s 155ms/step\n",
      "1/1 [==============================] - 0s 149ms/step\n",
      "1/1 [==============================] - 0s 151ms/step\n",
      "1/1 [==============================] - 0s 198ms/step\n",
      "1/1 [==============================] - 0s 334ms/step\n",
      "1/1 [==============================] - 0s 192ms/step\n",
      "1/1 [==============================] - 0s 138ms/step\n",
      "1/1 [==============================] - 0s 133ms/step\n",
      "1/1 [==============================] - 0s 148ms/step\n",
      "1/1 [==============================] - 0s 145ms/step\n",
      "1/1 [==============================] - 0s 134ms/step\n",
      "1/1 [==============================] - 0s 147ms/step\n",
      "1/1 [==============================] - 0s 142ms/step\n",
      "1/1 [==============================] - 0s 145ms/step\n",
      "1/1 [==============================] - 0s 143ms/step\n",
      "1/1 [==============================] - 0s 156ms/step\n",
      "1/1 [==============================] - 0s 157ms/step\n",
      "1/1 [==============================] - 0s 152ms/step\n",
      "1/1 [==============================] - 0s 195ms/step\n",
      "1/1 [==============================] - 0s 147ms/step\n",
      "[3, 2, 2, 0, 1, 0, 0, 2, 3, 2, 2, 2, 2, 2, 2, 3, 1, 0, 2, 0, 0, 2, 1, 1, 1, 2, 3, 2, 2, 3, 1, 1, 1, 2, 3, 2, 2, 3, 1, 2, 2, 0, 1, 2, 0, 0, 0, 3, 2, 3, 0, 0, 3, 2]\n",
      "              precision    recall  f1-score   support\n",
      "\n",
      "           0       0.92      1.00      0.96        11\n",
      "           1       0.90      1.00      0.95         9\n",
      "           2       0.82      0.90      0.86        20\n",
      "           3       0.90      0.64      0.75        14\n",
      "\n",
      "    accuracy                           0.87        54\n",
      "   macro avg       0.88      0.89      0.88        54\n",
      "weighted avg       0.87      0.87      0.86        54\n",
      "\n"
     ]
    }
   ],
   "source": [
    "from sklearn.metrics import classification_report\n",
    "\n",
    "processed_data = []\n",
    "\n",
    "for i in test[\"2_utterance_convo\"]:\n",
    "    processed_data.append(prepare_data(i, tokenizer))\n",
    "# print(processed_data)\n",
    "y_pred = predict_class(processed_data)\n",
    "print(y_pred)\n",
    "print(classification_report(test[\"seek_response\"].to_list(), y_pred))"
   ]
  },
  {
   "cell_type": "code",
   "execution_count": null,
   "id": "7208751e",
   "metadata": {},
   "outputs": [],
   "source": []
  }
 ],
 "metadata": {
  "kernelspec": {
   "display_name": "Python 3 (ipykernel)",
   "language": "python",
   "name": "python3"
  },
  "language_info": {
   "codemirror_mode": {
    "name": "ipython",
    "version": 3
   },
   "file_extension": ".py",
   "mimetype": "text/x-python",
   "name": "python",
   "nbconvert_exporter": "python",
   "pygments_lexer": "ipython3",
   "version": "3.10.9"
  }
 },
 "nbformat": 4,
 "nbformat_minor": 5
}
