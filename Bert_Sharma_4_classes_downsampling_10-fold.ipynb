{
 "cells": [
  {
   "cell_type": "code",
   "execution_count": 21,
   "id": "4a825562",
   "metadata": {},
   "outputs": [],
   "source": [
    "import pandas as pd\n",
    "import numpy as np\n",
    "from tqdm.auto import tqdm\n",
    "import tensorflow as tf\n",
    "# !pip install transformers\n",
    "from transformers import BertTokenizer\n",
    "from sklearn.model_selection import KFold\n",
    "from sklearn.model_selection import train_test_split"
   ]
  },
  {
   "cell_type": "code",
   "execution_count": 22,
   "id": "18ac5487",
   "metadata": {},
   "outputs": [
    {
     "data": {
      "text/plain": [
       "2    67\n",
       "3    59\n",
       "1    41\n",
       "0    34\n",
       "Name: seek_response, dtype: int64"
      ]
     },
     "execution_count": 22,
     "metadata": {},
     "output_type": "execute_result"
    }
   ],
   "source": [
    "sharma_4 = pd.read_csv(\"Sharma_4_class.csv\")\n",
    "\n",
    "\n",
    "\n",
    "sharma_4['seek_response'].value_counts()"
   ]
  },
  {
   "cell_type": "code",
   "execution_count": 27,
   "id": "844a345e",
   "metadata": {},
   "outputs": [
    {
     "data": {
      "text/plain": [
       "0    34\n",
       "1    34\n",
       "2    34\n",
       "3    34\n",
       "Name: seek_response, dtype: int64"
      ]
     },
     "execution_count": 27,
     "metadata": {},
     "output_type": "execute_result"
    }
   ],
   "source": [
    "df_0 = sharma_4[sharma_4[\"seek_response\"]==0]\n",
    "df_1 = sharma_4[sharma_4[\"seek_response\"]==1]\n",
    "df_2 = sharma_4[sharma_4[\"seek_response\"]==2]\n",
    "df_3 = sharma_4[sharma_4[\"seek_response\"]==3]\n",
    "\n",
    "df_1_downsampled = df_1.sample(df_0.shape[0])\n",
    "df_2_downsampled = df_2.sample(df_0.shape[0])\n",
    "df_3_downsampled = df_3.sample(df_0.shape[0])\n",
    "\n",
    "df = pd.concat([df_0, df_1_downsampled, df_2_downsampled, df_3_downsampled])\n",
    "# df = pd.concat([df_0_downsampled, df_1])\n",
    "df[\"seek_response\"].value_counts()"
   ]
  },
  {
   "cell_type": "code",
   "execution_count": 28,
   "id": "ec5d9b3b",
   "metadata": {},
   "outputs": [
    {
     "data": {
      "text/plain": [
       "160"
      ]
     },
     "execution_count": 28,
     "metadata": {},
     "output_type": "execute_result"
    }
   ],
   "source": [
    "train_val, test = train_test_split(sharma_4, test_size=0.2)\n",
    "len(train_val)"
   ]
  },
  {
   "cell_type": "code",
   "execution_count": 29,
   "id": "0b6074d3",
   "metadata": {},
   "outputs": [
    {
     "name": "stdout",
     "output_type": "stream",
     "text": [
      "0\n"
     ]
    }
   ],
   "source": [
    "# find duplicates by performing an inner join\n",
    "duplicates = train_val.merge(test, on=['seek_response', '2_utterance_convo'], how='inner')\n",
    "\n",
    "# check the number of duplicates\n",
    "print(len(duplicates))"
   ]
  },
  {
   "cell_type": "code",
   "execution_count": 30,
   "id": "6daba1cf",
   "metadata": {},
   "outputs": [],
   "source": [
    "tokenizer = BertTokenizer.from_pretrained('bert-base-cased')"
   ]
  },
  {
   "cell_type": "code",
   "execution_count": 31,
   "id": "08b3ea77",
   "metadata": {},
   "outputs": [],
   "source": [
    "token = tokenizer.encode_plus(\n",
    "    train_val['2_utterance_convo'].iloc[0], \n",
    "    max_length=256, \n",
    "    truncation=True, \n",
    "    padding='max_length', \n",
    "    add_special_tokens=True,\n",
    "    return_tensors='tf'\n",
    ")"
   ]
  },
  {
   "cell_type": "code",
   "execution_count": 32,
   "id": "6816d2d6",
   "metadata": {},
   "outputs": [],
   "source": [
    "X_input_ids = np.zeros((len(train_val), 256))\n",
    "X_attn_masks = np.zeros((len(train_val), 256))"
   ]
  },
  {
   "cell_type": "code",
   "execution_count": 33,
   "id": "a6eed286",
   "metadata": {},
   "outputs": [],
   "source": [
    "def generate_training_data(df_balanced, ids, masks, tokenizer):\n",
    "    for i, text in tqdm(enumerate(train_val['2_utterance_convo'])):\n",
    "        tokenized_text = tokenizer.encode_plus(\n",
    "            text,\n",
    "            max_length=256, \n",
    "            truncation=True, \n",
    "            padding='max_length', \n",
    "            add_special_tokens=True,\n",
    "            return_tensors='tf'\n",
    "        )\n",
    "        ids[i, :] = tokenized_text.input_ids\n",
    "        masks[i, :] = tokenized_text.attention_mask\n",
    "    return ids, masks"
   ]
  },
  {
   "cell_type": "code",
   "execution_count": 34,
   "id": "edaad330",
   "metadata": {},
   "outputs": [
    {
     "data": {
      "text/plain": [
       "(160, 4)"
      ]
     },
     "execution_count": 34,
     "metadata": {},
     "output_type": "execute_result"
    }
   ],
   "source": [
    "labels = np.zeros((len(train_val), 4))\n",
    "labels.shape"
   ]
  },
  {
   "cell_type": "code",
   "execution_count": 35,
   "id": "4a5b8266",
   "metadata": {},
   "outputs": [],
   "source": [
    "labels[np.arange(len(train_val)), train_val['seek_response'].values] = 1 # one-hot encoded target tensor"
   ]
  },
  {
   "cell_type": "code",
   "execution_count": 36,
   "id": "d6bff781",
   "metadata": {},
   "outputs": [],
   "source": [
    "def SentimentDatasetMapFunction(input_ids, attn_masks, labels):\n",
    "    return {\n",
    "        'input_ids': input_ids,\n",
    "        'attention_mask': attn_masks\n",
    "    }, labels"
   ]
  },
  {
   "cell_type": "code",
   "execution_count": 37,
   "id": "c6a530b9",
   "metadata": {},
   "outputs": [
    {
     "name": "stderr",
     "output_type": "stream",
     "text": [
      "Some layers from the model checkpoint at bert-base-cased were not used when initializing TFBertModel: ['nsp___cls', 'mlm___cls']\n",
      "- This IS expected if you are initializing TFBertModel from the checkpoint of a model trained on another task or with another architecture (e.g. initializing a BertForSequenceClassification model from a BertForPreTraining model).\n",
      "- This IS NOT expected if you are initializing TFBertModel from the checkpoint of a model that you expect to be exactly identical (initializing a BertForSequenceClassification model from a BertForSequenceClassification model).\n",
      "All the layers of TFBertModel were initialized from the model checkpoint at bert-base-cased.\n",
      "If your task is similar to the task the model of the checkpoint was trained on, you can already use TFBertModel for predictions without further training.\n"
     ]
    },
    {
     "name": "stdout",
     "output_type": "stream",
     "text": [
      "Model: \"model_1\"\n",
      "__________________________________________________________________________________________________\n",
      " Layer (type)                   Output Shape         Param #     Connected to                     \n",
      "==================================================================================================\n",
      " input_ids (InputLayer)         [(None, 256)]        0           []                               \n",
      "                                                                                                  \n",
      " attention_mask (InputLayer)    [(None, 256)]        0           []                               \n",
      "                                                                                                  \n",
      " bert (TFBertMainLayer)         TFBaseModelOutputWi  108310272   ['input_ids[0][0]',              \n",
      "                                thPoolingAndCrossAt               'attention_mask[0][0]']         \n",
      "                                tentions(last_hidde                                               \n",
      "                                n_state=(None, 256,                                               \n",
      "                                 768),                                                            \n",
      "                                 pooler_output=(Non                                               \n",
      "                                e, 768),                                                          \n",
      "                                 past_key_values=No                                               \n",
      "                                ne, hidden_states=N                                               \n",
      "                                one, attentions=Non                                               \n",
      "                                e, cross_attentions                                               \n",
      "                                =None)                                                            \n",
      "                                                                                                  \n",
      " intermediate_layer (Dense)     (None, 512)          393728      ['bert[0][1]']                   \n",
      "                                                                                                  \n",
      " output_layer (Dense)           (None, 4)            2052        ['intermediate_layer[0][0]']     \n",
      "                                                                                                  \n",
      "==================================================================================================\n",
      "Total params: 108,706,052\n",
      "Trainable params: 108,706,052\n",
      "Non-trainable params: 0\n",
      "__________________________________________________________________________________________________\n"
     ]
    }
   ],
   "source": [
    "from transformers import TFBertModel\n",
    "\n",
    "model = TFBertModel.from_pretrained('bert-base-cased') # bert base model with pretrained weights\n",
    "\n",
    "# defining 2 input layers for input_ids and attn_masks\n",
    "input_ids = tf.keras.layers.Input(shape=(256,), name='input_ids', dtype='int32')\n",
    "attn_masks = tf.keras.layers.Input(shape=(256,), name='attention_mask', dtype='int32')\n",
    "\n",
    "bert_embds = model.bert(input_ids, attention_mask=attn_masks)[1] # 0 -> activation layer (3D), 1 -> pooled output layer (2D)\n",
    "intermediate_layer = tf.keras.layers.Dense(512, activation='relu', name='intermediate_layer')(bert_embds)\n",
    "output_layer = tf.keras.layers.Dense(4, activation='softmax', name='output_layer')(intermediate_layer) # softmax -> calcs probs of classes\n",
    "\n",
    "sentiment_model = tf.keras.Model(inputs=[input_ids, attn_masks], outputs=output_layer)\n",
    "sentiment_model.summary()"
   ]
  },
  {
   "cell_type": "code",
   "execution_count": 38,
   "id": "6d37cd83",
   "metadata": {},
   "outputs": [],
   "source": [
    "optim = tf.keras.optimizers.legacy.Adam(learning_rate=1e-5, decay=1e-6)\n",
    "loss_func = tf.keras.losses.CategoricalCrossentropy()\n",
    "acc = tf.keras.metrics.CategoricalAccuracy('accuracy')\n",
    "sentiment_model.compile(optimizer=optim, loss=loss_func, metrics=[acc])"
   ]
  },
  {
   "cell_type": "code",
   "execution_count": 39,
   "id": "4081c233",
   "metadata": {},
   "outputs": [
    {
     "data": {
      "application/vnd.jupyter.widget-view+json": {
       "model_id": "0115d40331e647eaa290213740cd9f9f",
       "version_major": 2,
       "version_minor": 0
      },
      "text/plain": [
       "0it [00:00, ?it/s]"
      ]
     },
     "metadata": {},
     "output_type": "display_data"
    },
    {
     "data": {
      "application/vnd.jupyter.widget-view+json": {
       "model_id": "83852e50725447c383555a9db8e16cdf",
       "version_major": 2,
       "version_minor": 0
      },
      "text/plain": [
       "0it [00:00, ?it/s]"
      ]
     },
     "metadata": {},
     "output_type": "display_data"
    },
    {
     "name": "stdout",
     "output_type": "stream",
     "text": [
      "1\n",
      "Epoch 1/2\n"
     ]
    },
    {
     "name": "stderr",
     "output_type": "stream",
     "text": [
      "2023-02-13 23:34:37.330137: I tensorflow/core/grappler/optimizers/custom_graph_optimizer_registry.cc:114] Plugin optimizer for device_type GPU is enabled.\n"
     ]
    },
    {
     "name": "stdout",
     "output_type": "stream",
     "text": [
      "10/10 [==============================] - ETA: 0s - loss: 1.5686 - accuracy: 0.2062"
     ]
    },
    {
     "name": "stderr",
     "output_type": "stream",
     "text": [
      "2023-02-13 23:35:10.611932: I tensorflow/core/grappler/optimizers/custom_graph_optimizer_registry.cc:114] Plugin optimizer for device_type GPU is enabled.\n"
     ]
    },
    {
     "name": "stdout",
     "output_type": "stream",
     "text": [
      "10/10 [==============================] - 50s 2s/step - loss: 1.5686 - accuracy: 0.2062 - val_loss: 1.4033 - val_accuracy: 0.3438\n",
      "Epoch 2/2\n",
      "10/10 [==============================] - 17s 2s/step - loss: 1.3688 - accuracy: 0.3500 - val_loss: 1.3383 - val_accuracy: 0.4313\n"
     ]
    },
    {
     "data": {
      "application/vnd.jupyter.widget-view+json": {
       "model_id": "ef76f3a986754057a14d2e1ca0600380",
       "version_major": 2,
       "version_minor": 0
      },
      "text/plain": [
       "0it [00:00, ?it/s]"
      ]
     },
     "metadata": {},
     "output_type": "display_data"
    },
    {
     "data": {
      "application/vnd.jupyter.widget-view+json": {
       "model_id": "10d024c4c73141b7b846af6a857d4334",
       "version_major": 2,
       "version_minor": 0
      },
      "text/plain": [
       "0it [00:00, ?it/s]"
      ]
     },
     "metadata": {},
     "output_type": "display_data"
    },
    {
     "name": "stdout",
     "output_type": "stream",
     "text": [
      "2\n",
      "Epoch 1/2\n",
      "10/10 [==============================] - 16s 2s/step - loss: 1.3593 - accuracy: 0.3063 - val_loss: 1.3173 - val_accuracy: 0.4000\n",
      "Epoch 2/2\n",
      "10/10 [==============================] - 17s 2s/step - loss: 1.3247 - accuracy: 0.3625 - val_loss: 1.2990 - val_accuracy: 0.4000\n"
     ]
    },
    {
     "data": {
      "application/vnd.jupyter.widget-view+json": {
       "model_id": "bea9ddc74bbb4ae6951b5227331d9d61",
       "version_major": 2,
       "version_minor": 0
      },
      "text/plain": [
       "0it [00:00, ?it/s]"
      ]
     },
     "metadata": {},
     "output_type": "display_data"
    },
    {
     "data": {
      "application/vnd.jupyter.widget-view+json": {
       "model_id": "2b738034b79e487493e06343ed8fd0bf",
       "version_major": 2,
       "version_minor": 0
      },
      "text/plain": [
       "0it [00:00, ?it/s]"
      ]
     },
     "metadata": {},
     "output_type": "display_data"
    },
    {
     "name": "stdout",
     "output_type": "stream",
     "text": [
      "3\n",
      "Epoch 1/2\n",
      "10/10 [==============================] - 16s 2s/step - loss: 1.3021 - accuracy: 0.4188 - val_loss: 1.2513 - val_accuracy: 0.5063\n",
      "Epoch 2/2\n",
      "10/10 [==============================] - 17s 2s/step - loss: 1.2474 - accuracy: 0.5063 - val_loss: 1.1861 - val_accuracy: 0.4938\n"
     ]
    },
    {
     "data": {
      "application/vnd.jupyter.widget-view+json": {
       "model_id": "7449a66002ed48f88f886ae9df193816",
       "version_major": 2,
       "version_minor": 0
      },
      "text/plain": [
       "0it [00:00, ?it/s]"
      ]
     },
     "metadata": {},
     "output_type": "display_data"
    },
    {
     "data": {
      "application/vnd.jupyter.widget-view+json": {
       "model_id": "ad79784985674a619c874c860b4620ee",
       "version_major": 2,
       "version_minor": 0
      },
      "text/plain": [
       "0it [00:00, ?it/s]"
      ]
     },
     "metadata": {},
     "output_type": "display_data"
    },
    {
     "name": "stdout",
     "output_type": "stream",
     "text": [
      "4\n",
      "Epoch 1/2\n",
      "10/10 [==============================] - 17s 2s/step - loss: 1.1780 - accuracy: 0.4938 - val_loss: 1.0935 - val_accuracy: 0.5813\n",
      "Epoch 2/2\n",
      "10/10 [==============================] - 16s 2s/step - loss: 1.1195 - accuracy: 0.5125 - val_loss: 1.0143 - val_accuracy: 0.5688\n"
     ]
    },
    {
     "data": {
      "application/vnd.jupyter.widget-view+json": {
       "model_id": "c539cb28aedd47508572e8f530d6aa15",
       "version_major": 2,
       "version_minor": 0
      },
      "text/plain": [
       "0it [00:00, ?it/s]"
      ]
     },
     "metadata": {},
     "output_type": "display_data"
    },
    {
     "data": {
      "application/vnd.jupyter.widget-view+json": {
       "model_id": "9650e94c155643ef928a0feb283b11dc",
       "version_major": 2,
       "version_minor": 0
      },
      "text/plain": [
       "0it [00:00, ?it/s]"
      ]
     },
     "metadata": {},
     "output_type": "display_data"
    },
    {
     "name": "stdout",
     "output_type": "stream",
     "text": [
      "5\n",
      "Epoch 1/2\n",
      "10/10 [==============================] - 18s 2s/step - loss: 1.0416 - accuracy: 0.6250 - val_loss: 0.9488 - val_accuracy: 0.6188\n",
      "Epoch 2/2\n",
      "10/10 [==============================] - 17s 2s/step - loss: 0.9749 - accuracy: 0.5688 - val_loss: 0.8028 - val_accuracy: 0.6500\n"
     ]
    },
    {
     "data": {
      "application/vnd.jupyter.widget-view+json": {
       "model_id": "5f359f313d9c4f34aee1866cce13a81d",
       "version_major": 2,
       "version_minor": 0
      },
      "text/plain": [
       "0it [00:00, ?it/s]"
      ]
     },
     "metadata": {},
     "output_type": "display_data"
    },
    {
     "data": {
      "application/vnd.jupyter.widget-view+json": {
       "model_id": "2e8f4df072fa4eef8ed9eb66e26861eb",
       "version_major": 2,
       "version_minor": 0
      },
      "text/plain": [
       "0it [00:00, ?it/s]"
      ]
     },
     "metadata": {},
     "output_type": "display_data"
    },
    {
     "name": "stdout",
     "output_type": "stream",
     "text": [
      "6\n",
      "Epoch 1/2\n",
      "10/10 [==============================] - 17s 2s/step - loss: 0.8654 - accuracy: 0.6375 - val_loss: 0.7348 - val_accuracy: 0.7438\n",
      "Epoch 2/2\n",
      "10/10 [==============================] - 18s 2s/step - loss: 0.7599 - accuracy: 0.7250 - val_loss: 0.6493 - val_accuracy: 0.7875\n"
     ]
    },
    {
     "data": {
      "application/vnd.jupyter.widget-view+json": {
       "model_id": "2e8fa9b10e9f4c53a99458ec6f87536e",
       "version_major": 2,
       "version_minor": 0
      },
      "text/plain": [
       "0it [00:00, ?it/s]"
      ]
     },
     "metadata": {},
     "output_type": "display_data"
    },
    {
     "data": {
      "application/vnd.jupyter.widget-view+json": {
       "model_id": "db6c675b8b7a44ab9f2143baeb7f0a96",
       "version_major": 2,
       "version_minor": 0
      },
      "text/plain": [
       "0it [00:00, ?it/s]"
      ]
     },
     "metadata": {},
     "output_type": "display_data"
    },
    {
     "name": "stdout",
     "output_type": "stream",
     "text": [
      "7\n",
      "Epoch 1/2\n",
      "10/10 [==============================] - 18s 2s/step - loss: 0.6873 - accuracy: 0.7500 - val_loss: 0.6134 - val_accuracy: 0.7688\n",
      "Epoch 2/2\n",
      "10/10 [==============================] - 20s 2s/step - loss: 0.6043 - accuracy: 0.7688 - val_loss: 0.4910 - val_accuracy: 0.8500\n"
     ]
    },
    {
     "data": {
      "application/vnd.jupyter.widget-view+json": {
       "model_id": "2294c0265ec74209a181d880b287cdb4",
       "version_major": 2,
       "version_minor": 0
      },
      "text/plain": [
       "0it [00:00, ?it/s]"
      ]
     },
     "metadata": {},
     "output_type": "display_data"
    },
    {
     "data": {
      "application/vnd.jupyter.widget-view+json": {
       "model_id": "2a12be9c7eed44a6a31bcfd870a9769f",
       "version_major": 2,
       "version_minor": 0
      },
      "text/plain": [
       "0it [00:00, ?it/s]"
      ]
     },
     "metadata": {},
     "output_type": "display_data"
    },
    {
     "name": "stdout",
     "output_type": "stream",
     "text": [
      "8\n",
      "Epoch 1/2\n",
      "10/10 [==============================] - 17s 2s/step - loss: 0.5151 - accuracy: 0.8438 - val_loss: 0.4202 - val_accuracy: 0.8938\n",
      "Epoch 2/2\n",
      "10/10 [==============================] - 21s 2s/step - loss: 0.4121 - accuracy: 0.8875 - val_loss: 0.3196 - val_accuracy: 0.9375\n"
     ]
    },
    {
     "data": {
      "application/vnd.jupyter.widget-view+json": {
       "model_id": "3e57449b07cf4258b0b9c08797c00f13",
       "version_major": 2,
       "version_minor": 0
      },
      "text/plain": [
       "0it [00:00, ?it/s]"
      ]
     },
     "metadata": {},
     "output_type": "display_data"
    },
    {
     "data": {
      "application/vnd.jupyter.widget-view+json": {
       "model_id": "dd97807b58364792b7def5823be9c1f8",
       "version_major": 2,
       "version_minor": 0
      },
      "text/plain": [
       "0it [00:00, ?it/s]"
      ]
     },
     "metadata": {},
     "output_type": "display_data"
    },
    {
     "name": "stdout",
     "output_type": "stream",
     "text": [
      "9\n",
      "Epoch 1/2\n",
      "10/10 [==============================] - 20s 2s/step - loss: 0.3348 - accuracy: 0.9062 - val_loss: 0.2625 - val_accuracy: 0.9500\n",
      "Epoch 2/2\n",
      "10/10 [==============================] - 19s 2s/step - loss: 0.2911 - accuracy: 0.9438 - val_loss: 0.2322 - val_accuracy: 0.9313\n"
     ]
    },
    {
     "data": {
      "application/vnd.jupyter.widget-view+json": {
       "model_id": "88076982a99b45f8918eab2f31aa15f9",
       "version_major": 2,
       "version_minor": 0
      },
      "text/plain": [
       "0it [00:00, ?it/s]"
      ]
     },
     "metadata": {},
     "output_type": "display_data"
    },
    {
     "data": {
      "application/vnd.jupyter.widget-view+json": {
       "model_id": "f07d41e9030e4847a4b7ee880c47f144",
       "version_major": 2,
       "version_minor": 0
      },
      "text/plain": [
       "0it [00:00, ?it/s]"
      ]
     },
     "metadata": {},
     "output_type": "display_data"
    },
    {
     "name": "stdout",
     "output_type": "stream",
     "text": [
      "10\n",
      "Epoch 1/2\n",
      "10/10 [==============================] - 17s 2s/step - loss: 0.2192 - accuracy: 0.9688 - val_loss: 0.1376 - val_accuracy: 0.9875\n",
      "Epoch 2/2\n",
      "10/10 [==============================] - 17s 2s/step - loss: 0.1968 - accuracy: 0.9688 - val_loss: 0.1052 - val_accuracy: 1.0000\n"
     ]
    }
   ],
   "source": [
    "kf = KFold(n_splits=10)\n",
    "a=1\n",
    "for train_index, val_index in kf.split(train_val):\n",
    "    \n",
    "    df_train = train_val.iloc[train_index]\n",
    "    df_val = train_val.iloc[val_index]\n",
    "    \n",
    "    X_input_ids_train, X_attn_masks_train = generate_training_data(df_train, X_input_ids, X_attn_masks, tokenizer)\n",
    "    X_input_ids_val, X_attn_masks_val = generate_training_data(df_val, X_input_ids, X_attn_masks, tokenizer)\n",
    "\n",
    "    # creating a data pipeline using tensorflow dataset utility, creates batches of data for easy loading...\n",
    "    dataset_train = tf.data.Dataset.from_tensor_slices((X_input_ids_train, X_attn_masks_train, labels))\n",
    "    dataset_val = tf.data.Dataset.from_tensor_slices((X_input_ids_val, X_attn_masks_val, labels))\n",
    "\n",
    "    dataset_train = dataset_train.map(SentimentDatasetMapFunction) # converting to required format for tensorflow dataset \n",
    "    dataset_val = dataset_val.map(SentimentDatasetMapFunction)\n",
    "    \n",
    "    dataset_train = dataset_train.shuffle(10000).batch(16, drop_remainder=True) # batch size, drop any left out tensor\n",
    "    dataset_val = dataset_val.shuffle(10000).batch(16, drop_remainder=True)\n",
    "    \n",
    "    print(a)\n",
    "    a = a+1\n",
    "    hist = sentiment_model.fit(dataset_train,validation_data=dataset_val,epochs=2)"
   ]
  },
  {
   "cell_type": "code",
   "execution_count": 150,
   "id": "d65427f9",
   "metadata": {},
   "outputs": [
    {
     "name": "stdout",
     "output_type": "stream",
     "text": [
      "Epoch 1/2\n"
     ]
    },
    {
     "name": "stderr",
     "output_type": "stream",
     "text": [
      "2023-02-08 00:54:41.763855: I tensorflow/core/grappler/optimizers/custom_graph_optimizer_registry.cc:114] Plugin optimizer for device_type GPU is enabled.\n"
     ]
    },
    {
     "name": "stdout",
     "output_type": "stream",
     "text": [
      "369/369 [==============================] - ETA: 0s - loss: 0.9302 - accuracy: 0.5881"
     ]
    },
    {
     "name": "stderr",
     "output_type": "stream",
     "text": [
      "2023-02-08 01:03:46.058239: I tensorflow/core/grappler/optimizers/custom_graph_optimizer_registry.cc:114] Plugin optimizer for device_type GPU is enabled.\n"
     ]
    },
    {
     "name": "stdout",
     "output_type": "stream",
     "text": [
      "369/369 [==============================] - 586s 2s/step - loss: 0.9302 - accuracy: 0.5881 - val_loss: 0.7236 - val_accuracy: 0.6512\n",
      "Epoch 2/2\n",
      "369/369 [==============================] - 489s 1s/step - loss: 0.7207 - accuracy: 0.6513 - val_loss: 0.7212 - val_accuracy: 0.6687\n"
     ]
    }
   ],
   "source": [
    "hist = sentiment_model.fit(\n",
    "    train_dataset,\n",
    "    validation_data=val_dataset,\n",
    "    epochs=2\n",
    ")"
   ]
  },
  {
   "cell_type": "code",
   "execution_count": 40,
   "id": "078e893c",
   "metadata": {
    "scrolled": false
   },
   "outputs": [
    {
     "name": "stderr",
     "output_type": "stream",
     "text": [
      "WARNING:absl:Found untraced functions such as embeddings_layer_call_fn, embeddings_layer_call_and_return_conditional_losses, encoder_layer_call_fn, encoder_layer_call_and_return_conditional_losses, pooler_layer_call_fn while saving (showing 5 of 420). These functions will not be directly callable after loading.\n"
     ]
    },
    {
     "name": "stdout",
     "output_type": "stream",
     "text": [
      "INFO:tensorflow:Assets written to: sentiment_model_4_downsampled_10-fold/assets\n"
     ]
    },
    {
     "name": "stderr",
     "output_type": "stream",
     "text": [
      "INFO:tensorflow:Assets written to: sentiment_model_4_downsampled_10-fold/assets\n"
     ]
    }
   ],
   "source": [
    "sentiment_model.save('sentiment_model_4_downsampled_10-fold')"
   ]
  },
  {
   "cell_type": "code",
   "execution_count": 42,
   "id": "d03fa237",
   "metadata": {},
   "outputs": [],
   "source": [
    "sentiment_model_4 = tf.keras.models.load_model('sentiment_model_4_downsampled_10-fold')\n",
    "\n",
    "tokenizer = BertTokenizer.from_pretrained('bert-base-cased')\n",
    "\n",
    "def prepare_data(input_text, tokenizer):\n",
    "    token = tokenizer.encode_plus(\n",
    "        input_text,\n",
    "        max_length=256, \n",
    "        truncation=True, \n",
    "        padding='max_length', \n",
    "        add_special_tokens=True,\n",
    "        return_tensors='tf'\n",
    "    )\n",
    "    return {\n",
    "        'input_ids': tf.cast(token.input_ids, tf.float64),\n",
    "        'attention_mask': tf.cast(token.attention_mask, tf.float64)\n",
    "    }\n",
    "\n",
    "def predict_class(processed_data):\n",
    "    '''predict class of input text\n",
    "  Args:\n",
    "    - reviews (list of strings)\n",
    "  Output:\n",
    "    - class (list of int)\n",
    "  '''\n",
    "    result = []\n",
    "    for i in processed_data:\n",
    "        pred = sentiment_model_4.predict(i)\n",
    "        result.append(np.argmax(pred))\n",
    "    return result\n"
   ]
  },
  {
   "cell_type": "code",
   "execution_count": 44,
   "id": "252a6ac4",
   "metadata": {},
   "outputs": [
    {
     "data": {
      "text/html": [
       "<div>\n",
       "<style scoped>\n",
       "    .dataframe tbody tr th:only-of-type {\n",
       "        vertical-align: middle;\n",
       "    }\n",
       "\n",
       "    .dataframe tbody tr th {\n",
       "        vertical-align: top;\n",
       "    }\n",
       "\n",
       "    .dataframe thead th {\n",
       "        text-align: right;\n",
       "    }\n",
       "</style>\n",
       "<table border=\"1\" class=\"dataframe\">\n",
       "  <thead>\n",
       "    <tr style=\"text-align: right;\">\n",
       "      <th></th>\n",
       "      <th>Unnamed: 0</th>\n",
       "      <th>seeker_post</th>\n",
       "      <th>seeking?</th>\n",
       "      <th>response_post</th>\n",
       "      <th>level</th>\n",
       "      <th>seek_response</th>\n",
       "      <th>2_utterance_convo</th>\n",
       "    </tr>\n",
       "  </thead>\n",
       "  <tbody>\n",
       "    <tr>\n",
       "      <th>15</th>\n",
       "      <td>46</td>\n",
       "      <td>Invisible. Went out tonight with a few friends...</td>\n",
       "      <td>1</td>\n",
       "      <td>I can't remember the last time I went out with...</td>\n",
       "      <td>0</td>\n",
       "      <td>2</td>\n",
       "      <td>[CLS] Invisible. Went out tonight with a few f...</td>\n",
       "    </tr>\n",
       "    <tr>\n",
       "      <th>118</th>\n",
       "      <td>354</td>\n",
       "      <td>Depression and celebrities. Hey there everyone...</td>\n",
       "      <td>0</td>\n",
       "      <td>Not Hollywood per se, but Ned Vizzini suicide ...</td>\n",
       "      <td>1</td>\n",
       "      <td>1</td>\n",
       "      <td>[CLS] Depression and celebrities. Hey there ev...</td>\n",
       "    </tr>\n",
       "    <tr>\n",
       "      <th>133</th>\n",
       "      <td>398</td>\n",
       "      <td>What helps you lighten up your mood when there...</td>\n",
       "      <td>0</td>\n",
       "      <td>Everyone suggests to exercise but its easier s...</td>\n",
       "      <td>1</td>\n",
       "      <td>1</td>\n",
       "      <td>[CLS] What helps you lighten up your mood when...</td>\n",
       "    </tr>\n",
       "    <tr>\n",
       "      <th>184</th>\n",
       "      <td>547</td>\n",
       "      <td>Getting out of your situation or not is a choi...</td>\n",
       "      <td>0</td>\n",
       "      <td>Well yeah, but what about the relatives and th...</td>\n",
       "      <td>0</td>\n",
       "      <td>0</td>\n",
       "      <td>[CLS] Getting out of your situation or not is ...</td>\n",
       "    </tr>\n",
       "    <tr>\n",
       "      <th>7</th>\n",
       "      <td>23</td>\n",
       "      <td>If just one person would call me.... If just o...</td>\n",
       "      <td>1</td>\n",
       "      <td>Pm me if you want to talk</td>\n",
       "      <td>0</td>\n",
       "      <td>2</td>\n",
       "      <td>[CLS] If just one person would call me.... If ...</td>\n",
       "    </tr>\n",
       "    <tr>\n",
       "      <th>53</th>\n",
       "      <td>161</td>\n",
       "      <td>Float tanks?. Has anybody had any luck using f...</td>\n",
       "      <td>1</td>\n",
       "      <td>I tried one once. It was a cool experience, bu...</td>\n",
       "      <td>1</td>\n",
       "      <td>3</td>\n",
       "      <td>[CLS] Float tanks?. Has anybody had any luck u...</td>\n",
       "    </tr>\n",
       "    <tr>\n",
       "      <th>1</th>\n",
       "      <td>5</td>\n",
       "      <td>Will things ever start looking up. I'm on a do...</td>\n",
       "      <td>1</td>\n",
       "      <td>Thing will only start looking up when you do. ...</td>\n",
       "      <td>1</td>\n",
       "      <td>3</td>\n",
       "      <td>[CLS] Will things ever start looking up. I'm o...</td>\n",
       "    </tr>\n",
       "    <tr>\n",
       "      <th>12</th>\n",
       "      <td>34</td>\n",
       "      <td>I just had a dream where the girl of the dream...</td>\n",
       "      <td>0</td>\n",
       "      <td>And this is why I am sleeping like 12 hours a ...</td>\n",
       "      <td>0</td>\n",
       "      <td>0</td>\n",
       "      <td>[CLS] I just had a dream where the girl of the...</td>\n",
       "    </tr>\n",
       "    <tr>\n",
       "      <th>127</th>\n",
       "      <td>382</td>\n",
       "      <td>I have become comfortably numb. afraid of who ...</td>\n",
       "      <td>1</td>\n",
       "      <td>What does that mean in practice? Are you one o...</td>\n",
       "      <td>0</td>\n",
       "      <td>2</td>\n",
       "      <td>[CLS] I have become comfortably numb. afraid o...</td>\n",
       "    </tr>\n",
       "    <tr>\n",
       "      <th>86</th>\n",
       "      <td>262</td>\n",
       "      <td>Currently on Lexapro sub and going to be presc...</td>\n",
       "      <td>0</td>\n",
       "      <td>I was on Lexapro and Wellbutrin for the longes...</td>\n",
       "      <td>1</td>\n",
       "      <td>1</td>\n",
       "      <td>[CLS] Currently on Lexapro sub and going to be...</td>\n",
       "    </tr>\n",
       "    <tr>\n",
       "      <th>42</th>\n",
       "      <td>130</td>\n",
       "      <td>You used to be that guy that everyone like and...</td>\n",
       "      <td>0</td>\n",
       "      <td>Funny how pharases like that say everything yo...</td>\n",
       "      <td>1</td>\n",
       "      <td>1</td>\n",
       "      <td>[CLS] You used to be that guy that everyone li...</td>\n",
       "    </tr>\n",
       "    <tr>\n",
       "      <th>119</th>\n",
       "      <td>357</td>\n",
       "      <td>I can’t focus!. just so tired and I just focus...</td>\n",
       "      <td>0</td>\n",
       "      <td>That's quite a common symptoms among the depre...</td>\n",
       "      <td>0</td>\n",
       "      <td>0</td>\n",
       "      <td>[CLS] I can’t focus!. just so tired and I just...</td>\n",
       "    </tr>\n",
       "    <tr>\n",
       "      <th>21</th>\n",
       "      <td>60</td>\n",
       "      <td>All i do is smoke weed and eat a lot. I feel t...</td>\n",
       "      <td>1</td>\n",
       "      <td>I feel the same. I start losing weight and the...</td>\n",
       "      <td>1</td>\n",
       "      <td>3</td>\n",
       "      <td>[CLS] All i do is smoke weed and eat a lot. I ...</td>\n",
       "    </tr>\n",
       "    <tr>\n",
       "      <th>38</th>\n",
       "      <td>120</td>\n",
       "      <td>When was the last time.... Someone gave you a ...</td>\n",
       "      <td>0</td>\n",
       "      <td>If you don't count my mother or family members...</td>\n",
       "      <td>1</td>\n",
       "      <td>1</td>\n",
       "      <td>[CLS] When was the last time.... Someone gave ...</td>\n",
       "    </tr>\n",
       "    <tr>\n",
       "      <th>97</th>\n",
       "      <td>295</td>\n",
       "      <td>How are you supposed to fake confidence?. Is a...</td>\n",
       "      <td>0</td>\n",
       "      <td>Think of someone that you look up to (Actor, m...</td>\n",
       "      <td>0</td>\n",
       "      <td>0</td>\n",
       "      <td>[CLS] How are you supposed to fake confidence?...</td>\n",
       "    </tr>\n",
       "    <tr>\n",
       "      <th>62</th>\n",
       "      <td>186</td>\n",
       "      <td>I've got a november birthday (today) at least ...</td>\n",
       "      <td>1</td>\n",
       "      <td>Happy birthday from me to you. It's mine also....</td>\n",
       "      <td>0</td>\n",
       "      <td>2</td>\n",
       "      <td>[CLS] I've got a november birthday (today) at ...</td>\n",
       "    </tr>\n",
       "    <tr>\n",
       "      <th>199</th>\n",
       "      <td>587</td>\n",
       "      <td>does anyone else feel so much better just stay...</td>\n",
       "      <td>1</td>\n",
       "      <td>Yes. And i do like some company. I'm a confuse...</td>\n",
       "      <td>1</td>\n",
       "      <td>3</td>\n",
       "      <td>[CLS] does anyone else feel so much better jus...</td>\n",
       "    </tr>\n",
       "    <tr>\n",
       "      <th>45</th>\n",
       "      <td>139</td>\n",
       "      <td>What is the easiest way for a 16 year old to g...</td>\n",
       "      <td>1</td>\n",
       "      <td>Get help in what way? It's also cool to see so...</td>\n",
       "      <td>0</td>\n",
       "      <td>2</td>\n",
       "      <td>[CLS] What is the easiest way for a 16 year ol...</td>\n",
       "    </tr>\n",
       "    <tr>\n",
       "      <th>85</th>\n",
       "      <td>259</td>\n",
       "      <td>One question :). I have depression, I dont sle...</td>\n",
       "      <td>1</td>\n",
       "      <td>Happens to me too, you're probably just sleep ...</td>\n",
       "      <td>1</td>\n",
       "      <td>3</td>\n",
       "      <td>[CLS] One question :). I have depression, I do...</td>\n",
       "    </tr>\n",
       "    <tr>\n",
       "      <th>141</th>\n",
       "      <td>425</td>\n",
       "      <td>I got upset but for the first time since I got...</td>\n",
       "      <td>1</td>\n",
       "      <td>That's wonderful news, you should be proud of ...</td>\n",
       "      <td>0</td>\n",
       "      <td>2</td>\n",
       "      <td>[CLS] I got upset but for the first time since...</td>\n",
       "    </tr>\n",
       "    <tr>\n",
       "      <th>98</th>\n",
       "      <td>298</td>\n",
       "      <td>Another great start to the week. Just found ou...</td>\n",
       "      <td>1</td>\n",
       "      <td>Well fair enough. I'm sorry there isn't anythi...</td>\n",
       "      <td>0</td>\n",
       "      <td>2</td>\n",
       "      <td>[CLS] Another great start to the week. Just fo...</td>\n",
       "    </tr>\n",
       "    <tr>\n",
       "      <th>121</th>\n",
       "      <td>366</td>\n",
       "      <td>My parents wont allow me to sick medical assis...</td>\n",
       "      <td>1</td>\n",
       "      <td>Ask your school counselor what resources they ...</td>\n",
       "      <td>0</td>\n",
       "      <td>2</td>\n",
       "      <td>[CLS] My parents wont allow me to sick medical...</td>\n",
       "    </tr>\n",
       "    <tr>\n",
       "      <th>190</th>\n",
       "      <td>564</td>\n",
       "      <td>Its silly how out of the blue it can hit you a...</td>\n",
       "      <td>1</td>\n",
       "      <td>Its not silly, its cruel ;-;</td>\n",
       "      <td>0</td>\n",
       "      <td>2</td>\n",
       "      <td>[CLS] Its silly how out of the blue it can hit...</td>\n",
       "    </tr>\n",
       "    <tr>\n",
       "      <th>125</th>\n",
       "      <td>376</td>\n",
       "      <td>Does anyone else think about redoing parts of ...</td>\n",
       "      <td>0</td>\n",
       "      <td>Every single day I wish that I could go back 4...</td>\n",
       "      <td>0</td>\n",
       "      <td>0</td>\n",
       "      <td>[CLS] Does anyone else think about redoing par...</td>\n",
       "    </tr>\n",
       "    <tr>\n",
       "      <th>171</th>\n",
       "      <td>510</td>\n",
       "      <td>Have any of you looked in a mirror,. and hated...</td>\n",
       "      <td>0</td>\n",
       "      <td>Literally everyone has. This isn't some unique...</td>\n",
       "      <td>1</td>\n",
       "      <td>1</td>\n",
       "      <td>[CLS] Have any of you looked in a mirror,. and...</td>\n",
       "    </tr>\n",
       "    <tr>\n",
       "      <th>116</th>\n",
       "      <td>348</td>\n",
       "      <td>.... Feeling hopeless and useless at the momen...</td>\n",
       "      <td>1</td>\n",
       "      <td>Some days I just want to lie in bed and listen...</td>\n",
       "      <td>1</td>\n",
       "      <td>3</td>\n",
       "      <td>[CLS] .... Feeling hopeless and useless at the...</td>\n",
       "    </tr>\n",
       "    <tr>\n",
       "      <th>142</th>\n",
       "      <td>428</td>\n",
       "      <td>I'm contemplating suicide via ruining my life....</td>\n",
       "      <td>1</td>\n",
       "      <td>Maybe one day things will become brighter for ...</td>\n",
       "      <td>0</td>\n",
       "      <td>2</td>\n",
       "      <td>[CLS] I'm contemplating suicide via ruining my...</td>\n",
       "    </tr>\n",
       "    <tr>\n",
       "      <th>130</th>\n",
       "      <td>389</td>\n",
       "      <td>I honestly need an answer.. What do you do whe...</td>\n",
       "      <td>1</td>\n",
       "      <td>I even put up with bad books. Anything that ge...</td>\n",
       "      <td>0</td>\n",
       "      <td>2</td>\n",
       "      <td>[CLS] I honestly need an answer.. What do you ...</td>\n",
       "    </tr>\n",
       "    <tr>\n",
       "      <th>131</th>\n",
       "      <td>392</td>\n",
       "      <td>whats the longest youve been out of school/col...</td>\n",
       "      <td>0</td>\n",
       "      <td>I've been on leave for 10 weeks from work.</td>\n",
       "      <td>1</td>\n",
       "      <td>1</td>\n",
       "      <td>[CLS] whats the longest youve been out of scho...</td>\n",
       "    </tr>\n",
       "    <tr>\n",
       "      <th>16</th>\n",
       "      <td>47</td>\n",
       "      <td>Has anyone with depression used a (prescribed)...</td>\n",
       "      <td>1</td>\n",
       "      <td>i know if it could be considered a stimulant, ...</td>\n",
       "      <td>0</td>\n",
       "      <td>2</td>\n",
       "      <td>[CLS] Has anyone with depression used a (presc...</td>\n",
       "    </tr>\n",
       "    <tr>\n",
       "      <th>83</th>\n",
       "      <td>253</td>\n",
       "      <td>The cruelest thing you can do to a person is g...</td>\n",
       "      <td>0</td>\n",
       "      <td>So true. Every time I think I've made a friend...</td>\n",
       "      <td>1</td>\n",
       "      <td>1</td>\n",
       "      <td>[CLS] The cruelest thing you can do to a perso...</td>\n",
       "    </tr>\n",
       "    <tr>\n",
       "      <th>70</th>\n",
       "      <td>211</td>\n",
       "      <td>How can I accept my intrusive depressive thoug...</td>\n",
       "      <td>1</td>\n",
       "      <td>I think accepting that you are YOU rather than...</td>\n",
       "      <td>0</td>\n",
       "      <td>2</td>\n",
       "      <td>[CLS] How can I accept my intrusive depressive...</td>\n",
       "    </tr>\n",
       "    <tr>\n",
       "      <th>41</th>\n",
       "      <td>127</td>\n",
       "      <td>A friend just died. A friend of mine just died...</td>\n",
       "      <td>1</td>\n",
       "      <td>You should talk to your other friends who you ...</td>\n",
       "      <td>0</td>\n",
       "      <td>2</td>\n",
       "      <td>[CLS] A friend just died. A friend of mine jus...</td>\n",
       "    </tr>\n",
       "    <tr>\n",
       "      <th>13</th>\n",
       "      <td>40</td>\n",
       "      <td>I don’t think people love me. They love versio...</td>\n",
       "      <td>1</td>\n",
       "      <td>What really gets me is I feel like no matter h...</td>\n",
       "      <td>0</td>\n",
       "      <td>2</td>\n",
       "      <td>[CLS] I don’t think people love me. They love ...</td>\n",
       "    </tr>\n",
       "    <tr>\n",
       "      <th>5</th>\n",
       "      <td>17</td>\n",
       "      <td>Any skin pickers?. it's a terrible way I try t...</td>\n",
       "      <td>1</td>\n",
       "      <td>I bite at my nails and the skin around them. M...</td>\n",
       "      <td>1</td>\n",
       "      <td>3</td>\n",
       "      <td>[CLS] Any skin pickers?. it's a terrible way I...</td>\n",
       "    </tr>\n",
       "    <tr>\n",
       "      <th>117</th>\n",
       "      <td>351</td>\n",
       "      <td>Could I OD on a bottle of 25mg vistaril (90 pi...</td>\n",
       "      <td>0</td>\n",
       "      <td>I've read that the minimum lethal dose of hydr...</td>\n",
       "      <td>0</td>\n",
       "      <td>0</td>\n",
       "      <td>[CLS] Could I OD on a bottle of 25mg vistaril ...</td>\n",
       "    </tr>\n",
       "    <tr>\n",
       "      <th>150</th>\n",
       "      <td>451</td>\n",
       "      <td>Does abstaining from masturbation cures depres...</td>\n",
       "      <td>1</td>\n",
       "      <td>Well I will find out because I can't even stay...</td>\n",
       "      <td>0</td>\n",
       "      <td>2</td>\n",
       "      <td>[CLS] Does abstaining from masturbation cures ...</td>\n",
       "    </tr>\n",
       "    <tr>\n",
       "      <th>60</th>\n",
       "      <td>180</td>\n",
       "      <td>Medication that works?. I have been dealing wi...</td>\n",
       "      <td>0</td>\n",
       "      <td>Medications work differently for everyone. Usu...</td>\n",
       "      <td>1</td>\n",
       "      <td>1</td>\n",
       "      <td>[CLS] Medication that works?. I have been deal...</td>\n",
       "    </tr>\n",
       "    <tr>\n",
       "      <th>128</th>\n",
       "      <td>385</td>\n",
       "      <td>I hate being so numb that I can't even force m...</td>\n",
       "      <td>1</td>\n",
       "      <td>Terror and pain always wakes me up. I occasion...</td>\n",
       "      <td>1</td>\n",
       "      <td>3</td>\n",
       "      <td>[CLS] I hate being so numb that I can't even f...</td>\n",
       "    </tr>\n",
       "    <tr>\n",
       "      <th>178</th>\n",
       "      <td>529</td>\n",
       "      <td>I saw a photo of myself from a year ago. I... ...</td>\n",
       "      <td>1</td>\n",
       "      <td>Unfortunately im thin anyway and through depre...</td>\n",
       "      <td>0</td>\n",
       "      <td>2</td>\n",
       "      <td>[CLS] I saw a photo of myself from a year ago....</td>\n",
       "    </tr>\n",
       "    <tr>\n",
       "      <th>46</th>\n",
       "      <td>142</td>\n",
       "      <td>Starting Intensive outpatient program tomorrow...</td>\n",
       "      <td>0</td>\n",
       "      <td>I went in 2015. It saved my life. It was one o...</td>\n",
       "      <td>1</td>\n",
       "      <td>1</td>\n",
       "      <td>[CLS] Starting Intensive outpatient program to...</td>\n",
       "    </tr>\n",
       "  </tbody>\n",
       "</table>\n",
       "</div>"
      ],
      "text/plain": [
       "     Unnamed: 0                                        seeker_post  seeking?  \\\n",
       "15           46  Invisible. Went out tonight with a few friends...         1   \n",
       "118         354  Depression and celebrities. Hey there everyone...         0   \n",
       "133         398  What helps you lighten up your mood when there...         0   \n",
       "184         547  Getting out of your situation or not is a choi...         0   \n",
       "7            23  If just one person would call me.... If just o...         1   \n",
       "53          161  Float tanks?. Has anybody had any luck using f...         1   \n",
       "1             5  Will things ever start looking up. I'm on a do...         1   \n",
       "12           34  I just had a dream where the girl of the dream...         0   \n",
       "127         382  I have become comfortably numb. afraid of who ...         1   \n",
       "86          262  Currently on Lexapro sub and going to be presc...         0   \n",
       "42          130  You used to be that guy that everyone like and...         0   \n",
       "119         357  I can’t focus!. just so tired and I just focus...         0   \n",
       "21           60  All i do is smoke weed and eat a lot. I feel t...         1   \n",
       "38          120  When was the last time.... Someone gave you a ...         0   \n",
       "97          295  How are you supposed to fake confidence?. Is a...         0   \n",
       "62          186  I've got a november birthday (today) at least ...         1   \n",
       "199         587  does anyone else feel so much better just stay...         1   \n",
       "45          139  What is the easiest way for a 16 year old to g...         1   \n",
       "85          259  One question :). I have depression, I dont sle...         1   \n",
       "141         425  I got upset but for the first time since I got...         1   \n",
       "98          298  Another great start to the week. Just found ou...         1   \n",
       "121         366  My parents wont allow me to sick medical assis...         1   \n",
       "190         564  Its silly how out of the blue it can hit you a...         1   \n",
       "125         376  Does anyone else think about redoing parts of ...         0   \n",
       "171         510  Have any of you looked in a mirror,. and hated...         0   \n",
       "116         348  .... Feeling hopeless and useless at the momen...         1   \n",
       "142         428  I'm contemplating suicide via ruining my life....         1   \n",
       "130         389  I honestly need an answer.. What do you do whe...         1   \n",
       "131         392  whats the longest youve been out of school/col...         0   \n",
       "16           47  Has anyone with depression used a (prescribed)...         1   \n",
       "83          253  The cruelest thing you can do to a person is g...         0   \n",
       "70          211  How can I accept my intrusive depressive thoug...         1   \n",
       "41          127  A friend just died. A friend of mine just died...         1   \n",
       "13           40  I don’t think people love me. They love versio...         1   \n",
       "5            17  Any skin pickers?. it's a terrible way I try t...         1   \n",
       "117         351  Could I OD on a bottle of 25mg vistaril (90 pi...         0   \n",
       "150         451  Does abstaining from masturbation cures depres...         1   \n",
       "60          180  Medication that works?. I have been dealing wi...         0   \n",
       "128         385  I hate being so numb that I can't even force m...         1   \n",
       "178         529  I saw a photo of myself from a year ago. I... ...         1   \n",
       "46          142  Starting Intensive outpatient program tomorrow...         0   \n",
       "\n",
       "                                         response_post  level  seek_response  \\\n",
       "15   I can't remember the last time I went out with...      0              2   \n",
       "118  Not Hollywood per se, but Ned Vizzini suicide ...      1              1   \n",
       "133  Everyone suggests to exercise but its easier s...      1              1   \n",
       "184  Well yeah, but what about the relatives and th...      0              0   \n",
       "7                            Pm me if you want to talk      0              2   \n",
       "53   I tried one once. It was a cool experience, bu...      1              3   \n",
       "1    Thing will only start looking up when you do. ...      1              3   \n",
       "12   And this is why I am sleeping like 12 hours a ...      0              0   \n",
       "127  What does that mean in practice? Are you one o...      0              2   \n",
       "86   I was on Lexapro and Wellbutrin for the longes...      1              1   \n",
       "42   Funny how pharases like that say everything yo...      1              1   \n",
       "119  That's quite a common symptoms among the depre...      0              0   \n",
       "21   I feel the same. I start losing weight and the...      1              3   \n",
       "38   If you don't count my mother or family members...      1              1   \n",
       "97   Think of someone that you look up to (Actor, m...      0              0   \n",
       "62   Happy birthday from me to you. It's mine also....      0              2   \n",
       "199  Yes. And i do like some company. I'm a confuse...      1              3   \n",
       "45   Get help in what way? It's also cool to see so...      0              2   \n",
       "85   Happens to me too, you're probably just sleep ...      1              3   \n",
       "141  That's wonderful news, you should be proud of ...      0              2   \n",
       "98   Well fair enough. I'm sorry there isn't anythi...      0              2   \n",
       "121  Ask your school counselor what resources they ...      0              2   \n",
       "190                       Its not silly, its cruel ;-;      0              2   \n",
       "125  Every single day I wish that I could go back 4...      0              0   \n",
       "171  Literally everyone has. This isn't some unique...      1              1   \n",
       "116  Some days I just want to lie in bed and listen...      1              3   \n",
       "142  Maybe one day things will become brighter for ...      0              2   \n",
       "130  I even put up with bad books. Anything that ge...      0              2   \n",
       "131         I've been on leave for 10 weeks from work.      1              1   \n",
       "16   i know if it could be considered a stimulant, ...      0              2   \n",
       "83   So true. Every time I think I've made a friend...      1              1   \n",
       "70   I think accepting that you are YOU rather than...      0              2   \n",
       "41   You should talk to your other friends who you ...      0              2   \n",
       "13   What really gets me is I feel like no matter h...      0              2   \n",
       "5    I bite at my nails and the skin around them. M...      1              3   \n",
       "117  I've read that the minimum lethal dose of hydr...      0              0   \n",
       "150  Well I will find out because I can't even stay...      0              2   \n",
       "60   Medications work differently for everyone. Usu...      1              1   \n",
       "128  Terror and pain always wakes me up. I occasion...      1              3   \n",
       "178  Unfortunately im thin anyway and through depre...      0              2   \n",
       "46   I went in 2015. It saved my life. It was one o...      1              1   \n",
       "\n",
       "                                     2_utterance_convo  \n",
       "15   [CLS] Invisible. Went out tonight with a few f...  \n",
       "118  [CLS] Depression and celebrities. Hey there ev...  \n",
       "133  [CLS] What helps you lighten up your mood when...  \n",
       "184  [CLS] Getting out of your situation or not is ...  \n",
       "7    [CLS] If just one person would call me.... If ...  \n",
       "53   [CLS] Float tanks?. Has anybody had any luck u...  \n",
       "1    [CLS] Will things ever start looking up. I'm o...  \n",
       "12   [CLS] I just had a dream where the girl of the...  \n",
       "127  [CLS] I have become comfortably numb. afraid o...  \n",
       "86   [CLS] Currently on Lexapro sub and going to be...  \n",
       "42   [CLS] You used to be that guy that everyone li...  \n",
       "119  [CLS] I can’t focus!. just so tired and I just...  \n",
       "21   [CLS] All i do is smoke weed and eat a lot. I ...  \n",
       "38   [CLS] When was the last time.... Someone gave ...  \n",
       "97   [CLS] How are you supposed to fake confidence?...  \n",
       "62   [CLS] I've got a november birthday (today) at ...  \n",
       "199  [CLS] does anyone else feel so much better jus...  \n",
       "45   [CLS] What is the easiest way for a 16 year ol...  \n",
       "85   [CLS] One question :). I have depression, I do...  \n",
       "141  [CLS] I got upset but for the first time since...  \n",
       "98   [CLS] Another great start to the week. Just fo...  \n",
       "121  [CLS] My parents wont allow me to sick medical...  \n",
       "190  [CLS] Its silly how out of the blue it can hit...  \n",
       "125  [CLS] Does anyone else think about redoing par...  \n",
       "171  [CLS] Have any of you looked in a mirror,. and...  \n",
       "116  [CLS] .... Feeling hopeless and useless at the...  \n",
       "142  [CLS] I'm contemplating suicide via ruining my...  \n",
       "130  [CLS] I honestly need an answer.. What do you ...  \n",
       "131  [CLS] whats the longest youve been out of scho...  \n",
       "16   [CLS] Has anyone with depression used a (presc...  \n",
       "83   [CLS] The cruelest thing you can do to a perso...  \n",
       "70   [CLS] How can I accept my intrusive depressive...  \n",
       "41   [CLS] A friend just died. A friend of mine jus...  \n",
       "13   [CLS] I don’t think people love me. They love ...  \n",
       "5    [CLS] Any skin pickers?. it's a terrible way I...  \n",
       "117  [CLS] Could I OD on a bottle of 25mg vistaril ...  \n",
       "150  [CLS] Does abstaining from masturbation cures ...  \n",
       "60   [CLS] Medication that works?. I have been deal...  \n",
       "128  [CLS] I hate being so numb that I can't even f...  \n",
       "178  [CLS] I saw a photo of myself from a year ago....  \n",
       "46   [CLS] Starting Intensive outpatient program to...  "
      ]
     },
     "execution_count": 44,
     "metadata": {},
     "output_type": "execute_result"
    }
   ],
   "source": [
    "test"
   ]
  },
  {
   "cell_type": "code",
   "execution_count": 45,
   "id": "15198ac0",
   "metadata": {},
   "outputs": [
    {
     "name": "stdout",
     "output_type": "stream",
     "text": [
      "1/1 [==============================] - 0s 483ms/step\n",
      "1/1 [==============================] - 0s 142ms/step\n",
      "1/1 [==============================] - 0s 136ms/step\n",
      "1/1 [==============================] - 0s 137ms/step\n",
      "1/1 [==============================] - 0s 136ms/step\n",
      "1/1 [==============================] - 0s 138ms/step\n",
      "1/1 [==============================] - 0s 142ms/step\n",
      "1/1 [==============================] - 0s 149ms/step\n",
      "1/1 [==============================] - 0s 139ms/step\n",
      "1/1 [==============================] - 0s 136ms/step\n",
      "1/1 [==============================] - 0s 139ms/step\n",
      "1/1 [==============================] - 0s 131ms/step\n",
      "1/1 [==============================] - 0s 135ms/step\n",
      "1/1 [==============================] - 0s 143ms/step\n",
      "1/1 [==============================] - 0s 137ms/step\n",
      "1/1 [==============================] - 0s 133ms/step\n",
      "1/1 [==============================] - 0s 137ms/step\n",
      "1/1 [==============================] - 0s 135ms/step\n",
      "1/1 [==============================] - 0s 136ms/step\n",
      "1/1 [==============================] - 0s 132ms/step\n",
      "1/1 [==============================] - 0s 138ms/step\n",
      "1/1 [==============================] - 0s 134ms/step\n",
      "1/1 [==============================] - 0s 134ms/step\n",
      "1/1 [==============================] - 0s 134ms/step\n",
      "1/1 [==============================] - 0s 142ms/step\n",
      "1/1 [==============================] - 0s 137ms/step\n",
      "1/1 [==============================] - 0s 138ms/step\n",
      "1/1 [==============================] - 0s 140ms/step\n",
      "1/1 [==============================] - 0s 133ms/step\n",
      "1/1 [==============================] - 0s 136ms/step\n",
      "1/1 [==============================] - 0s 132ms/step\n",
      "1/1 [==============================] - 0s 134ms/step\n",
      "1/1 [==============================] - 0s 135ms/step\n",
      "1/1 [==============================] - 0s 135ms/step\n",
      "1/1 [==============================] - 0s 138ms/step\n",
      "1/1 [==============================] - 0s 134ms/step\n",
      "1/1 [==============================] - 0s 135ms/step\n",
      "1/1 [==============================] - 0s 134ms/step\n",
      "1/1 [==============================] - 0s 135ms/step\n",
      "1/1 [==============================] - 0s 140ms/step\n",
      "1/1 [==============================] - 0s 135ms/step\n",
      "[2, 2, 1, 0, 2, 2, 3, 2, 2, 3, 2, 3, 3, 0, 0, 2, 2, 3, 2, 2, 2, 2, 2, 2, 0, 2, 2, 2, 3, 1, 2, 2, 2, 2, 3, 2, 2, 2, 2, 2, 0]\n",
      "              precision    recall  f1-score   support\n",
      "\n",
      "           0       0.40      0.33      0.36         6\n",
      "           1       0.50      0.10      0.17        10\n",
      "           2       0.56      0.88      0.68        17\n",
      "           3       0.43      0.38      0.40         8\n",
      "\n",
      "    accuracy                           0.51        41\n",
      "   macro avg       0.47      0.42      0.40        41\n",
      "weighted avg       0.49      0.51      0.45        41\n",
      "\n"
     ]
    }
   ],
   "source": [
    "from sklearn.metrics import classification_report\n",
    "\n",
    "processed_data = []\n",
    "\n",
    "for i in test[\"2_utterance_convo\"]:\n",
    "    processed_data.append(prepare_data(i, tokenizer))\n",
    "# print(processed_data)\n",
    "y_pred = predict_class(processed_data)\n",
    "print(y_pred)\n",
    "print(classification_report(test[\"seek_response\"].to_list(), y_pred))"
   ]
  },
  {
   "cell_type": "code",
   "execution_count": null,
   "id": "7208751e",
   "metadata": {},
   "outputs": [],
   "source": []
  }
 ],
 "metadata": {
  "kernelspec": {
   "display_name": "Python 3 (ipykernel)",
   "language": "python",
   "name": "python3"
  },
  "language_info": {
   "codemirror_mode": {
    "name": "ipython",
    "version": 3
   },
   "file_extension": ".py",
   "mimetype": "text/x-python",
   "name": "python",
   "nbconvert_exporter": "python",
   "pygments_lexer": "ipython3",
   "version": "3.10.9"
  }
 },
 "nbformat": 4,
 "nbformat_minor": 5
}
