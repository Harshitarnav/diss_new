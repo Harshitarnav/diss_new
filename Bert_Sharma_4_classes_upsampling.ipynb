{
 "cells": [
  {
   "cell_type": "code",
   "execution_count": 78,
   "id": "4a825562",
   "metadata": {},
   "outputs": [],
   "source": [
    "import pandas as pd\n",
    "import numpy as np\n",
    "from tqdm.auto import tqdm\n",
    "import tensorflow as tf\n",
    "# !pip install transformers\n",
    "from transformers import BertTokenizer\n",
    "from sklearn.utils import resample\n",
    "from sklearn.model_selection import train_test_split"
   ]
  },
  {
   "cell_type": "code",
   "execution_count": 79,
   "id": "18ac5487",
   "metadata": {},
   "outputs": [
    {
     "data": {
      "text/plain": [
       "2    67\n",
       "3    67\n",
       "1    67\n",
       "0    67\n",
       "Name: seek_response, dtype: int64"
      ]
     },
     "execution_count": 79,
     "metadata": {},
     "output_type": "execute_result"
    }
   ],
   "source": [
    "# Upsampling the 4 class division of Sharma dataset where the maximum class count is 67\n",
    "sharma_4 = pd.read_csv(\"Sharma_4_class.csv\")\n",
    "\n",
    "class_counts = sharma_4['seek_response'].value_counts()\n",
    "sharma_4_upsampled = pd.DataFrame()\n",
    "\n",
    "for i,j in class_counts.items():\n",
    "    if (j == 67):\n",
    "        df_majority = sharma_4[sharma_4[\"seek_response\"]==i]\n",
    "        \n",
    "        # Combine majority class with empty class\n",
    "        sharma_4_upsampled = pd.concat([sharma_4_upsampled,df_majority])\n",
    "        continue\n",
    "    else:\n",
    "        df_minority = sharma_4[sharma_4[\"seek_response\"]==i]\n",
    "        # Upsample minority class\n",
    "        df_minority_upsampled = resample(df_minority, \n",
    "                                 replace=True,     # sample with replacement\n",
    "                                 n_samples=67,    # to match majority class\n",
    "                                 random_state=123) # reproducible results\n",
    " \n",
    "        # Combine minority class with other classes class\n",
    "        sharma_4_upsampled = pd.concat([sharma_4_upsampled, df_minority_upsampled])\n",
    "\n",
    "sharma_4_upsampled = sharma_4_upsampled.loc[:, ~sharma_4_upsampled.columns.str.contains('^Unnamed')]\n",
    "sharma_4_upsampled = sharma_4_upsampled.drop(['seeker_post','seeking?','response_post','level'], axis=1)\n",
    "\n",
    "sharma_4_upsampled['seek_response'].value_counts()\n",
    "# sharma_4_upsampled"
   ]
  },
  {
   "cell_type": "code",
   "execution_count": 159,
   "id": "fedd6940",
   "metadata": {},
   "outputs": [
    {
     "data": {
      "text/plain": [
       "214"
      ]
     },
     "execution_count": 159,
     "metadata": {},
     "output_type": "execute_result"
    }
   ],
   "source": [
    "train_val, test = train_test_split(sharma_4_upsampled, test_size=0.2)\n",
    "len(train_val)"
   ]
  },
  {
   "cell_type": "code",
   "execution_count": 160,
   "id": "ec5d9b3b",
   "metadata": {},
   "outputs": [],
   "source": [
    "# train_val_chutiya = sharma_4_upsampled.sample(frac=0.8)\n",
    "# print(len(train_val_chutiya))\n",
    "# # remove the rows that occur in both dataframes\n",
    "# test_chutiya = sharma_4_upsampled.merge(train_val, on=['2_utterance_convo'], how='outer', indicator=True)\n",
    "# print(test_chutiya['_merge'].value_counts())\n",
    "# test_chutiya = test_chutiya[test_chutiya['_merge'] == 'left_only']\n",
    "# test_chutiya.drop(columns=['_merge'], inplace=True)"
   ]
  },
  {
   "cell_type": "code",
   "execution_count": 162,
   "id": "0b6074d3",
   "metadata": {},
   "outputs": [
    {
     "name": "stdout",
     "output_type": "stream",
     "text": [
      "41\n"
     ]
    }
   ],
   "source": [
    "# find duplicates by performing an inner join\n",
    "duplicates = train_val.merge(test, on=['seek_response', '2_utterance_convo'], how='inner')\n",
    "\n",
    "# check the number of duplicates\n",
    "print(len(duplicates))"
   ]
  },
  {
   "cell_type": "code",
   "execution_count": 163,
   "id": "6daba1cf",
   "metadata": {},
   "outputs": [],
   "source": [
    "tokenizer = BertTokenizer.from_pretrained('bert-base-cased')"
   ]
  },
  {
   "cell_type": "code",
   "execution_count": 164,
   "id": "08b3ea77",
   "metadata": {},
   "outputs": [],
   "source": [
    "token = tokenizer.encode_plus(\n",
    "    train_val['2_utterance_convo'].iloc[0], \n",
    "    max_length=256, \n",
    "    truncation=True, \n",
    "    padding='max_length', \n",
    "    add_special_tokens=True,\n",
    "    return_tensors='tf'\n",
    ")"
   ]
  },
  {
   "cell_type": "code",
   "execution_count": 165,
   "id": "6816d2d6",
   "metadata": {},
   "outputs": [],
   "source": [
    "X_input_ids = np.zeros((len(train_val), 256))\n",
    "X_attn_masks = np.zeros((len(train_val), 256))"
   ]
  },
  {
   "cell_type": "code",
   "execution_count": 166,
   "id": "a6eed286",
   "metadata": {},
   "outputs": [],
   "source": [
    "def generate_training_data(df_balanced, ids, masks, tokenizer):\n",
    "    for i, text in tqdm(enumerate(train_val['2_utterance_convo'])):\n",
    "        tokenized_text = tokenizer.encode_plus(\n",
    "            text,\n",
    "            max_length=256, \n",
    "            truncation=True, \n",
    "            padding='max_length', \n",
    "            add_special_tokens=True,\n",
    "            return_tensors='tf'\n",
    "        )\n",
    "        ids[i, :] = tokenized_text.input_ids\n",
    "        masks[i, :] = tokenized_text.attention_mask\n",
    "    return ids, masks"
   ]
  },
  {
   "cell_type": "code",
   "execution_count": 167,
   "id": "002654be",
   "metadata": {},
   "outputs": [
    {
     "data": {
      "application/vnd.jupyter.widget-view+json": {
       "model_id": "93624f38ccf94b8298c69effafb5fc4b",
       "version_major": 2,
       "version_minor": 0
      },
      "text/plain": [
       "0it [00:00, ?it/s]"
      ]
     },
     "metadata": {},
     "output_type": "display_data"
    }
   ],
   "source": [
    "X_input_ids, X_attn_masks = generate_training_data(train_val, X_input_ids, X_attn_masks, tokenizer)"
   ]
  },
  {
   "cell_type": "code",
   "execution_count": 168,
   "id": "edaad330",
   "metadata": {},
   "outputs": [
    {
     "data": {
      "text/plain": [
       "(214, 4)"
      ]
     },
     "execution_count": 168,
     "metadata": {},
     "output_type": "execute_result"
    }
   ],
   "source": [
    "labels = np.zeros((len(train_val), 4))\n",
    "labels.shape"
   ]
  },
  {
   "cell_type": "code",
   "execution_count": 169,
   "id": "ec973e2d",
   "metadata": {
    "scrolled": true
   },
   "outputs": [
    {
     "data": {
      "text/plain": [
       "array([  0,   1,   2,   3,   4,   5,   6,   7,   8,   9,  10,  11,  12,\n",
       "        13,  14,  15,  16,  17,  18,  19,  20,  21,  22,  23,  24,  25,\n",
       "        26,  27,  28,  29,  30,  31,  32,  33,  34,  35,  36,  37,  38,\n",
       "        39,  40,  41,  42,  43,  44,  45,  46,  47,  48,  49,  50,  51,\n",
       "        52,  53,  54,  55,  56,  57,  58,  59,  60,  61,  62,  63,  64,\n",
       "        65,  66,  67,  68,  69,  70,  71,  72,  73,  74,  75,  76,  77,\n",
       "        78,  79,  80,  81,  82,  83,  84,  85,  86,  87,  88,  89,  90,\n",
       "        91,  92,  93,  94,  95,  96,  97,  98,  99, 100, 101, 102, 103,\n",
       "       104, 105, 106, 107, 108, 109, 110, 111, 112, 113, 114, 115, 116,\n",
       "       117, 118, 119, 120, 121, 122, 123, 124, 125, 126, 127, 128, 129,\n",
       "       130, 131, 132, 133, 134, 135, 136, 137, 138, 139, 140, 141, 142,\n",
       "       143, 144, 145, 146, 147, 148, 149, 150, 151, 152, 153, 154, 155,\n",
       "       156, 157, 158, 159, 160, 161, 162, 163, 164, 165, 166, 167, 168,\n",
       "       169, 170, 171, 172, 173, 174, 175, 176, 177, 178, 179, 180, 181,\n",
       "       182, 183, 184, 185, 186, 187, 188, 189, 190, 191, 192, 193, 194,\n",
       "       195, 196, 197, 198, 199, 200, 201, 202, 203, 204, 205, 206, 207,\n",
       "       208, 209, 210, 211, 212, 213])"
      ]
     },
     "execution_count": 169,
     "metadata": {},
     "output_type": "execute_result"
    }
   ],
   "source": [
    "np.arange(len(train_val))"
   ]
  },
  {
   "cell_type": "code",
   "execution_count": 170,
   "id": "1e2a5adb",
   "metadata": {},
   "outputs": [
    {
     "data": {
      "text/plain": [
       "array([3, 2, 1, 0, 3, 3, 2, 0, 0, 1, 1, 2, 3, 3, 2, 3, 3, 2, 3, 0, 1, 3,\n",
       "       0, 3, 1, 0, 0, 1, 0, 3, 2, 0, 2, 0, 0, 0, 0, 1, 1, 0, 3, 2, 1, 1,\n",
       "       2, 3, 2, 1, 0, 3, 2, 3, 3, 0, 1, 1, 2, 3, 3, 1, 1, 1, 2, 3, 3, 0,\n",
       "       0, 2, 0, 2, 0, 3, 1, 0, 3, 2, 3, 3, 3, 1, 0, 3, 2, 0, 1, 1, 0, 1,\n",
       "       0, 1, 1, 2, 2, 0, 2, 2, 2, 2, 0, 3, 2, 2, 1, 1, 0, 1, 2, 2, 3, 3,\n",
       "       1, 1, 0, 3, 0, 1, 3, 3, 2, 1, 3, 0, 1, 2, 0, 2, 0, 3, 1, 3, 3, 3,\n",
       "       1, 0, 1, 1, 2, 1, 2, 2, 1, 2, 0, 1, 3, 3, 2, 1, 2, 1, 0, 2, 0, 1,\n",
       "       2, 2, 1, 0, 2, 3, 3, 2, 0, 2, 3, 0, 0, 0, 0, 2, 2, 0, 0, 1, 3, 1,\n",
       "       1, 0, 1, 0, 2, 3, 3, 1, 1, 3, 3, 2, 1, 0, 3, 0, 0, 0, 3, 2, 0, 0,\n",
       "       2, 0, 2, 1, 0, 0, 3, 0, 3, 3, 2, 1, 0, 3, 1, 3])"
      ]
     },
     "execution_count": 170,
     "metadata": {},
     "output_type": "execute_result"
    }
   ],
   "source": [
    "train_val['seek_response'].values"
   ]
  },
  {
   "cell_type": "code",
   "execution_count": 171,
   "id": "4a5b8266",
   "metadata": {},
   "outputs": [],
   "source": [
    "labels[np.arange(len(train_val)), train_val['seek_response'].values] = 1 # one-hot encoded target tensor"
   ]
  },
  {
   "cell_type": "code",
   "execution_count": 172,
   "id": "096dd9bc",
   "metadata": {},
   "outputs": [
    {
     "data": {
      "text/plain": [
       "<TakeDataset element_spec=(TensorSpec(shape=(256,), dtype=tf.float64, name=None), TensorSpec(shape=(256,), dtype=tf.float64, name=None), TensorSpec(shape=(4,), dtype=tf.float64, name=None))>"
      ]
     },
     "execution_count": 172,
     "metadata": {},
     "output_type": "execute_result"
    }
   ],
   "source": [
    "# creating a data pipeline using tensorflow dataset utility, creates batches of data for easy loading...\n",
    "dataset = tf.data.Dataset.from_tensor_slices((X_input_ids, X_attn_masks, labels))\n",
    "dataset.take(1) # one sample data"
   ]
  },
  {
   "cell_type": "code",
   "execution_count": 173,
   "id": "d6bff781",
   "metadata": {},
   "outputs": [],
   "source": [
    "def SentimentDatasetMapFunction(input_ids, attn_masks, labels):\n",
    "    return {\n",
    "        'input_ids': input_ids,\n",
    "        'attention_mask': attn_masks\n",
    "    }, labels"
   ]
  },
  {
   "cell_type": "code",
   "execution_count": 174,
   "id": "14811725",
   "metadata": {},
   "outputs": [],
   "source": [
    "dataset = dataset.map(SentimentDatasetMapFunction) # converting to required format for tensorflow dataset "
   ]
  },
  {
   "cell_type": "code",
   "execution_count": 175,
   "id": "cd67a197",
   "metadata": {},
   "outputs": [],
   "source": [
    "dataset = dataset.shuffle(10000).batch(16, drop_remainder=True) # batch size, drop any left out tensor"
   ]
  },
  {
   "cell_type": "code",
   "execution_count": 176,
   "id": "451d4215",
   "metadata": {},
   "outputs": [
    {
     "data": {
      "text/plain": [
       "<TakeDataset element_spec=({'input_ids': TensorSpec(shape=(16, 256), dtype=tf.float64, name=None), 'attention_mask': TensorSpec(shape=(16, 256), dtype=tf.float64, name=None)}, TensorSpec(shape=(16, 4), dtype=tf.float64, name=None))>"
      ]
     },
     "execution_count": 176,
     "metadata": {},
     "output_type": "execute_result"
    }
   ],
   "source": [
    "dataset.take(1)"
   ]
  },
  {
   "cell_type": "code",
   "execution_count": 177,
   "id": "d0d14935",
   "metadata": {},
   "outputs": [],
   "source": [
    "p = 0.75\n",
    "train_size = int((len(train_val)//16)*p) # for each 16 batch of data we will have len(df)//16 samples, take 80% of that for train."
   ]
  },
  {
   "cell_type": "code",
   "execution_count": 178,
   "id": "32c70c17",
   "metadata": {},
   "outputs": [],
   "source": [
    "train_dataset = dataset.take(train_size)\n",
    "val_dataset = dataset.skip(train_size)"
   ]
  },
  {
   "cell_type": "code",
   "execution_count": 179,
   "id": "b5aefd68",
   "metadata": {},
   "outputs": [],
   "source": [
    "from transformers import TFBertModel"
   ]
  },
  {
   "cell_type": "code",
   "execution_count": 180,
   "id": "1c2e6ba1",
   "metadata": {},
   "outputs": [
    {
     "name": "stderr",
     "output_type": "stream",
     "text": [
      "Some layers from the model checkpoint at bert-base-cased were not used when initializing TFBertModel: ['nsp___cls', 'mlm___cls']\n",
      "- This IS expected if you are initializing TFBertModel from the checkpoint of a model trained on another task or with another architecture (e.g. initializing a BertForSequenceClassification model from a BertForPreTraining model).\n",
      "- This IS NOT expected if you are initializing TFBertModel from the checkpoint of a model that you expect to be exactly identical (initializing a BertForSequenceClassification model from a BertForSequenceClassification model).\n",
      "All the layers of TFBertModel were initialized from the model checkpoint at bert-base-cased.\n",
      "If your task is similar to the task the model of the checkpoint was trained on, you can already use TFBertModel for predictions without further training.\n"
     ]
    }
   ],
   "source": [
    "model = TFBertModel.from_pretrained('bert-base-cased') # bert base model with pretrained weights"
   ]
  },
  {
   "cell_type": "code",
   "execution_count": 181,
   "id": "c6a530b9",
   "metadata": {},
   "outputs": [
    {
     "name": "stdout",
     "output_type": "stream",
     "text": [
      "Model: \"model_2\"\n",
      "__________________________________________________________________________________________________\n",
      " Layer (type)                   Output Shape         Param #     Connected to                     \n",
      "==================================================================================================\n",
      " input_ids (InputLayer)         [(None, 256)]        0           []                               \n",
      "                                                                                                  \n",
      " attention_mask (InputLayer)    [(None, 256)]        0           []                               \n",
      "                                                                                                  \n",
      " bert (TFBertMainLayer)         TFBaseModelOutputWi  108310272   ['input_ids[0][0]',              \n",
      "                                thPoolingAndCrossAt               'attention_mask[0][0]']         \n",
      "                                tentions(last_hidde                                               \n",
      "                                n_state=(None, 256,                                               \n",
      "                                 768),                                                            \n",
      "                                 pooler_output=(Non                                               \n",
      "                                e, 768),                                                          \n",
      "                                 past_key_values=No                                               \n",
      "                                ne, hidden_states=N                                               \n",
      "                                one, attentions=Non                                               \n",
      "                                e, cross_attentions                                               \n",
      "                                =None)                                                            \n",
      "                                                                                                  \n",
      " intermediate_layer (Dense)     (None, 512)          393728      ['bert[0][1]']                   \n",
      "                                                                                                  \n",
      " output_layer (Dense)           (None, 4)            2052        ['intermediate_layer[0][0]']     \n",
      "                                                                                                  \n",
      "==================================================================================================\n",
      "Total params: 108,706,052\n",
      "Trainable params: 108,706,052\n",
      "Non-trainable params: 0\n",
      "__________________________________________________________________________________________________\n"
     ]
    }
   ],
   "source": [
    "# defining 2 input layers for input_ids and attn_masks\n",
    "input_ids = tf.keras.layers.Input(shape=(256,), name='input_ids', dtype='int32')\n",
    "attn_masks = tf.keras.layers.Input(shape=(256,), name='attention_mask', dtype='int32')\n",
    "\n",
    "bert_embds = model.bert(input_ids, attention_mask=attn_masks)[1] # 0 -> activation layer (3D), 1 -> pooled output layer (2D)\n",
    "intermediate_layer = tf.keras.layers.Dense(512, activation='relu', name='intermediate_layer')(bert_embds)\n",
    "output_layer = tf.keras.layers.Dense(4, activation='softmax', name='output_layer')(intermediate_layer) # softmax -> calcs probs of classes\n",
    "\n",
    "sentiment_model = tf.keras.Model(inputs=[input_ids, attn_masks], outputs=output_layer)\n",
    "sentiment_model.summary()"
   ]
  },
  {
   "cell_type": "code",
   "execution_count": 182,
   "id": "6d37cd83",
   "metadata": {},
   "outputs": [],
   "source": [
    "optim = tf.keras.optimizers.legacy.Adam(learning_rate=1e-5, decay=1e-6)\n",
    "loss_func = tf.keras.losses.CategoricalCrossentropy()\n",
    "acc = tf.keras.metrics.CategoricalAccuracy('accuracy')"
   ]
  },
  {
   "cell_type": "code",
   "execution_count": 183,
   "id": "4081c233",
   "metadata": {},
   "outputs": [],
   "source": [
    "sentiment_model.compile(optimizer=optim, loss=loss_func, metrics=[acc])"
   ]
  },
  {
   "cell_type": "code",
   "execution_count": 184,
   "id": "d65427f9",
   "metadata": {},
   "outputs": [
    {
     "name": "stdout",
     "output_type": "stream",
     "text": [
      "Epoch 1/2\n"
     ]
    },
    {
     "name": "stderr",
     "output_type": "stream",
     "text": [
      "2023-02-13 23:22:05.068917: I tensorflow/core/grappler/optimizers/custom_graph_optimizer_registry.cc:114] Plugin optimizer for device_type GPU is enabled.\n"
     ]
    },
    {
     "name": "stdout",
     "output_type": "stream",
     "text": [
      "9/9 [==============================] - ETA: 0s - loss: 1.4102 - accuracy: 0.2639"
     ]
    },
    {
     "name": "stderr",
     "output_type": "stream",
     "text": [
      "2023-02-13 23:22:31.352125: I tensorflow/core/grappler/optimizers/custom_graph_optimizer_registry.cc:114] Plugin optimizer for device_type GPU is enabled.\n"
     ]
    },
    {
     "name": "stdout",
     "output_type": "stream",
     "text": [
      "9/9 [==============================] - 39s 2s/step - loss: 1.4102 - accuracy: 0.2639 - val_loss: 1.3425 - val_accuracy: 0.3438\n",
      "Epoch 2/2\n",
      "9/9 [==============================] - 13s 1s/step - loss: 1.3515 - accuracy: 0.3125 - val_loss: 1.2771 - val_accuracy: 0.5312\n"
     ]
    }
   ],
   "source": [
    "hist = sentiment_model.fit(\n",
    "    train_dataset,\n",
    "    validation_data=val_dataset,\n",
    "    epochs=2\n",
    ")"
   ]
  },
  {
   "cell_type": "code",
   "execution_count": 185,
   "id": "078e893c",
   "metadata": {},
   "outputs": [
    {
     "name": "stderr",
     "output_type": "stream",
     "text": [
      "WARNING:absl:Found untraced functions such as embeddings_layer_call_fn, embeddings_layer_call_and_return_conditional_losses, encoder_layer_call_fn, encoder_layer_call_and_return_conditional_losses, pooler_layer_call_fn while saving (showing 5 of 420). These functions will not be directly callable after loading.\n"
     ]
    },
    {
     "name": "stdout",
     "output_type": "stream",
     "text": [
      "INFO:tensorflow:Assets written to: sentiment_model_4_upsampled/assets\n"
     ]
    },
    {
     "name": "stderr",
     "output_type": "stream",
     "text": [
      "INFO:tensorflow:Assets written to: sentiment_model_4_upsampled/assets\n"
     ]
    }
   ],
   "source": [
    "sentiment_model.save('sentiment_model_4_upsampled')"
   ]
  },
  {
   "cell_type": "code",
   "execution_count": 186,
   "id": "d03fa237",
   "metadata": {},
   "outputs": [],
   "source": [
    "sentiment_model_4 = tf.keras.models.load_model('sentiment_model_4_upsampled')\n",
    "\n",
    "tokenizer = BertTokenizer.from_pretrained('bert-base-cased')\n",
    "\n",
    "def prepare_data(input_text, tokenizer):\n",
    "    token = tokenizer.encode_plus(\n",
    "        input_text,\n",
    "        max_length=256, \n",
    "        truncation=True, \n",
    "        padding='max_length', \n",
    "        add_special_tokens=True,\n",
    "        return_tensors='tf'\n",
    "    )\n",
    "    return {\n",
    "        'input_ids': tf.cast(token.input_ids, tf.float64),\n",
    "        'attention_mask': tf.cast(token.attention_mask, tf.float64)\n",
    "    }\n",
    "\n",
    "def predict_class(processed_data):\n",
    "    '''predict class of input text\n",
    "  Args:\n",
    "    - reviews (list of strings)\n",
    "  Output:\n",
    "    - class (list of int)\n",
    "  '''\n",
    "    result = []\n",
    "    for i in processed_data:\n",
    "        pred = sentiment_model_4.predict(i)\n",
    "        result.append(np.argmax(pred))\n",
    "    return result\n"
   ]
  },
  {
   "cell_type": "code",
   "execution_count": 188,
   "id": "15198ac0",
   "metadata": {},
   "outputs": [
    {
     "name": "stdout",
     "output_type": "stream",
     "text": [
      "1/1 [==============================] - 3s 3s/step\n",
      "1/1 [==============================] - 0s 303ms/step\n",
      "1/1 [==============================] - 0s 146ms/step\n",
      "1/1 [==============================] - 0s 135ms/step\n",
      "1/1 [==============================] - 0s 139ms/step\n",
      "1/1 [==============================] - 0s 139ms/step\n",
      "1/1 [==============================] - 0s 139ms/step\n",
      "1/1 [==============================] - 0s 135ms/step\n",
      "1/1 [==============================] - 0s 136ms/step\n",
      "1/1 [==============================] - 0s 141ms/step\n",
      "1/1 [==============================] - 0s 136ms/step\n",
      "1/1 [==============================] - 0s 134ms/step\n",
      "1/1 [==============================] - 0s 135ms/step\n",
      "1/1 [==============================] - 0s 147ms/step\n",
      "1/1 [==============================] - 0s 145ms/step\n",
      "1/1 [==============================] - 0s 147ms/step\n",
      "1/1 [==============================] - 0s 147ms/step\n",
      "1/1 [==============================] - 0s 134ms/step\n",
      "1/1 [==============================] - 0s 133ms/step\n",
      "1/1 [==============================] - 0s 148ms/step\n",
      "1/1 [==============================] - 0s 148ms/step\n",
      "1/1 [==============================] - 0s 134ms/step\n",
      "1/1 [==============================] - 0s 144ms/step\n",
      "1/1 [==============================] - 0s 133ms/step\n",
      "1/1 [==============================] - 0s 133ms/step\n",
      "1/1 [==============================] - 0s 144ms/step\n",
      "1/1 [==============================] - 0s 137ms/step\n",
      "1/1 [==============================] - 0s 140ms/step\n",
      "1/1 [==============================] - 0s 136ms/step\n",
      "1/1 [==============================] - 0s 137ms/step\n",
      "1/1 [==============================] - 0s 149ms/step\n",
      "1/1 [==============================] - 0s 134ms/step\n",
      "1/1 [==============================] - 0s 146ms/step\n",
      "1/1 [==============================] - 0s 139ms/step\n",
      "1/1 [==============================] - 0s 134ms/step\n",
      "1/1 [==============================] - 0s 137ms/step\n",
      "1/1 [==============================] - 0s 145ms/step\n",
      "1/1 [==============================] - 0s 138ms/step\n",
      "1/1 [==============================] - 0s 179ms/step\n",
      "1/1 [==============================] - 0s 221ms/step\n",
      "1/1 [==============================] - 0s 134ms/step\n",
      "1/1 [==============================] - 0s 140ms/step\n",
      "1/1 [==============================] - 0s 135ms/step\n",
      "1/1 [==============================] - 0s 138ms/step\n",
      "1/1 [==============================] - 0s 136ms/step\n",
      "1/1 [==============================] - 0s 133ms/step\n",
      "1/1 [==============================] - 0s 143ms/step\n",
      "1/1 [==============================] - 0s 139ms/step\n",
      "1/1 [==============================] - 0s 137ms/step\n",
      "1/1 [==============================] - 0s 144ms/step\n",
      "1/1 [==============================] - 0s 148ms/step\n",
      "1/1 [==============================] - 0s 135ms/step\n",
      "1/1 [==============================] - 0s 142ms/step\n",
      "1/1 [==============================] - 0s 134ms/step\n",
      "[3, 3, 1, 0, 3, 3, 3, 0, 0, 0, 0, 1, 3, 3, 0, 3, 0, 3, 3, 3, 3, 3, 0, 3, 3, 0, 3, 0, 1, 0, 3, 3, 0, 1, 3, 3, 0, 3, 3, 3, 3, 1, 3, 0, 3, 3, 0, 0, 1, 3, 0, 3, 0, 0]\n",
      "              precision    recall  f1-score   support\n",
      "\n",
      "           0       0.26      0.56      0.36         9\n",
      "           1       0.17      0.07      0.10        15\n",
      "           2       0.00      0.00      0.00        17\n",
      "           3       0.24      0.54      0.33        13\n",
      "\n",
      "    accuracy                           0.24        54\n",
      "   macro avg       0.17      0.29      0.20        54\n",
      "weighted avg       0.15      0.24      0.17        54\n",
      "\n"
     ]
    }
   ],
   "source": [
    "from sklearn.metrics import classification_report\n",
    "\n",
    "processed_data = []\n",
    "\n",
    "for i in test[\"2_utterance_convo\"]:\n",
    "    processed_data.append(prepare_data(i, tokenizer))\n",
    "# print(processed_data)\n",
    "y_pred = predict_class(processed_data)\n",
    "print(y_pred)\n",
    "print(classification_report(test[\"seek_response\"].to_list(), y_pred))"
   ]
  },
  {
   "cell_type": "code",
   "execution_count": 158,
   "id": "6d81027d",
   "metadata": {},
   "outputs": [
    {
     "name": "stdout",
     "output_type": "stream",
     "text": [
      "              precision    recall  f1-score   support\n",
      "\n",
      "           0       0.37      1.00      0.54        83\n",
      "           1       0.00      0.00      0.00        88\n",
      "           2       0.46      0.83      0.59       306\n",
      "           3       0.34      0.04      0.06       337\n",
      "\n",
      "    accuracy                           0.43       814\n",
      "   macro avg       0.29      0.47      0.30       814\n",
      "weighted avg       0.35      0.43      0.30       814\n",
      "\n"
     ]
    }
   ],
   "source": [
    "print(classification_report(test[\"seek_response\"].to_list(), y_pred))"
   ]
  },
  {
   "cell_type": "code",
   "execution_count": null,
   "id": "7208751e",
   "metadata": {},
   "outputs": [],
   "source": []
  }
 ],
 "metadata": {
  "kernelspec": {
   "display_name": "Python 3 (ipykernel)",
   "language": "python",
   "name": "python3"
  },
  "language_info": {
   "codemirror_mode": {
    "name": "ipython",
    "version": 3
   },
   "file_extension": ".py",
   "mimetype": "text/x-python",
   "name": "python",
   "nbconvert_exporter": "python",
   "pygments_lexer": "ipython3",
   "version": "3.10.9"
  }
 },
 "nbformat": 4,
 "nbformat_minor": 5
}
